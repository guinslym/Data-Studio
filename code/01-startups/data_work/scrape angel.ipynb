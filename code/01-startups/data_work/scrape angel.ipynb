{
 "cells": [
  {
   "cell_type": "code",
   "execution_count": 9,
   "metadata": {},
   "outputs": [],
   "source": [
    "from selenium import webdriver\n",
    "from selenium.webdriver.common.keys import Keys\n",
    "from selenium.webdriver.support.ui import Select\n",
    "from selenium.webdriver.support.ui import WebDriverWait\n",
    "import time\n",
    "import pandas as pd\n",
    "import requests"
   ]
  },
  {
   "cell_type": "code",
   "execution_count": 2,
   "metadata": {},
   "outputs": [],
   "source": [
    "min_ = 10000\n",
    "max_ = 10000\n",
    "url = 'https://angel.co/companies?company_types[]=Startup&company_types[]=Private+Company&company_types[]=SaaS&company_types[]=Mobile+App&raised[min]='+str(min_)+'&raised[max]='+str(max_)"
   ]
  },
  {
   "cell_type": "code",
   "execution_count": 3,
   "metadata": {},
   "outputs": [],
   "source": [
    "driver = webdriver.Chrome()\n",
    "driver.get(url)\n",
    "time.sleep(5)"
   ]
  },
  {
   "cell_type": "code",
   "execution_count": 4,
   "metadata": {},
   "outputs": [],
   "source": [
    "def load_pages():\n",
    "    try:\n",
    "        time.sleep(5)\n",
    "        while True:\n",
    "            button = driver.find_element_by_class_name('more')\n",
    "            driver.execute_script(\"arguments[0].scrollIntoView(true)\", button)\n",
    "            button.click()\n",
    "            time.sleep(1)\n",
    "    except:\n",
    "        pass"
   ]
  },
  {
   "cell_type": "code",
   "execution_count": 5,
   "metadata": {},
   "outputs": [],
   "source": [
    "def get_startup_info():\n",
    "    wanted_stuff = ['name', 'pitch', 'location','joined', 'website', 'market', 'company_size', 'stage', 'raised']\n",
    "    all_startups = []\n",
    "    startup_list = driver.find_elements_by_class_name('startup')\n",
    "    for startup in startup_list:\n",
    "        temp = {}\n",
    "        for ws in wanted_stuff:\n",
    "            temp[ws] = startup.find_element_by_class_name(ws).text\n",
    "        all_startups.append(temp)\n",
    "    return all_startups"
   ]
  },
  {
   "cell_type": "code",
   "execution_count": 6,
   "metadata": {},
   "outputs": [],
   "source": [
    "def get_everything(n):\n",
    "    min_ = 10000\n",
    "    max_ = 10000\n",
    "    base_url = 'https://angel.co/companies?company_types[]=Startup&company_types[]=Private+Company&company_types[]=SaaS&company_types[]=Mobile+App&raised[min]='\n",
    "    url = base_url+str(min_)+'&raised[max]='+str(max_)\n",
    "    driver.get(url)\n",
    "    count = driver.find_element_by_xpath('//*[@id=\"root\"]/div[4]/div[2]/div/div[2]/div[2]/div[1]/div[1]').text.split()[0]\n",
    "    count = int(count)\n",
    "    all_startups =[]\n",
    "    while max_ < n:        \n",
    "        print(len(all_startups))\n",
    "        if count < 400:\n",
    "            min_ = max_+10\n",
    "            max_ = max_*1.2\n",
    "            driver.get(base_url+str(min_)+'&raised[max]='+str(max_))\n",
    "            count = driver.find_element_by_xpath('//*[@id=\"root\"]/div[4]/div[2]/div/div[2]/div[2]/div[1]/div[1]').text.split()[0]\n",
    "            count = int(count)\n",
    "            if count > 0:\n",
    "                time.sleep(2)\n",
    "                load_pages()\n",
    "                all_startups.extend(get_startup_info())\n",
    "        elif count > 400:\n",
    "            max_ = min_*1.05\n",
    "            driver.get(base_url+str(min_)+'&raised[max]='+str(max_)+str(min_)+'&raised[max]='+str(max_))\n",
    "            count = driver.find_element_by_xpath('//*[@id=\"root\"]/div[4]/div[2]/div/div[2]/div[2]/div[1]/div[1]').text.split()[0]\n",
    "            count = int(count)\n",
    "    return all_startups\n",
    "        "
   ]
  },
  {
   "cell_type": "code",
   "execution_count": 7,
   "metadata": {
    "scrolled": true
   },
   "outputs": [
    {
     "name": "stdout",
     "output_type": "stream",
     "text": [
      "0\n",
      "21\n",
      "34\n",
      "159\n",
      "336\n",
      "354\n",
      "474\n",
      "676\n",
      "836\n",
      "1436\n",
      "1567\n",
      "1722\n",
      "1904\n",
      "1964\n",
      "1964\n",
      "2204\n",
      "2204\n",
      "2424\n",
      "2424\n",
      "2593\n",
      "2873\n",
      "3270\n",
      "3736\n",
      "4352\n",
      "4643\n",
      "4877\n",
      "5368\n",
      "5528\n",
      "5528\n",
      "5928\n",
      "5928\n",
      "6328\n",
      "6328\n",
      "6368\n",
      "6368\n",
      "6888\n",
      "7308\n",
      "7308\n",
      "7708\n",
      "7708\n",
      "8168\n",
      "8168\n",
      "8444\n",
      "8707\n",
      "9031\n",
      "9344\n",
      "9621\n",
      "9870\n",
      "10078\n",
      "10252\n",
      "10454\n",
      "10621\n",
      "10802\n",
      "10962\n",
      "11149\n",
      "11293\n",
      "11411\n",
      "11626\n",
      "11742\n",
      "11845\n",
      "11938\n",
      "12043\n",
      "12114\n",
      "12185\n",
      "12251\n",
      "12303\n",
      "12343\n",
      "12381\n",
      "12413\n",
      "12433\n",
      "12450\n",
      "12470\n",
      "12482\n",
      "12493\n",
      "12499\n",
      "12499\n",
      "12507\n",
      "12514\n",
      "12519\n",
      "12522\n",
      "12525\n",
      "12527\n",
      "12529\n",
      "12531\n",
      "12531\n",
      "12532\n",
      "12532\n",
      "12533\n",
      "12533\n",
      "12533\n",
      "12533\n",
      "12533\n",
      "12534\n",
      "12535\n",
      "12536\n",
      "12536\n",
      "12536\n",
      "12536\n",
      "12536\n",
      "12536\n",
      "12536\n",
      "12536\n",
      "12536\n",
      "12536\n"
     ]
    }
   ],
   "source": [
    "all_startups = get_everything(100000000000)"
   ]
  },
  {
   "cell_type": "code",
   "execution_count": 10,
   "metadata": {},
   "outputs": [
    {
     "data": {
      "text/plain": [
       "(12536, 9)"
      ]
     },
     "execution_count": 10,
     "metadata": {},
     "output_type": "execute_result"
    }
   ],
   "source": [
    "df = pd.DataFrame(all_startups)\n",
    "df.shape"
   ]
  },
  {
   "cell_type": "code",
   "execution_count": 4,
   "metadata": {},
   "outputs": [
    {
     "ename": "NameError",
     "evalue": "name 'df' is not defined",
     "output_type": "error",
     "traceback": [
      "\u001b[0;31m---------------------------------------------------------------------------\u001b[0m",
      "\u001b[0;31mNameError\u001b[0m                                 Traceback (most recent call last)",
      "\u001b[0;32m<ipython-input-4-c42a15b2c7cf>\u001b[0m in \u001b[0;36m<module>\u001b[0;34m()\u001b[0m\n\u001b[0;32m----> 1\u001b[0;31m \u001b[0mdf\u001b[0m\u001b[0;34m.\u001b[0m\u001b[0mhead\u001b[0m\u001b[0;34m(\u001b[0m\u001b[0;34m)\u001b[0m\u001b[0;34m\u001b[0m\u001b[0m\n\u001b[0m",
      "\u001b[0;31mNameError\u001b[0m: name 'df' is not defined"
     ]
    }
   ],
   "source": [
    "df.head()"
   ]
  },
  {
   "cell_type": "code",
   "execution_count": 13,
   "metadata": {},
   "outputs": [],
   "source": [
    "df.to_csv('all_startups.csv', encoding='utf-8')"
   ]
  },
  {
   "cell_type": "code",
   "execution_count": 18,
   "metadata": {},
   "outputs": [
    {
     "data": {
      "text/html": [
       "<div>\n",
       "<style scoped>\n",
       "    .dataframe tbody tr th:only-of-type {\n",
       "        vertical-align: middle;\n",
       "    }\n",
       "\n",
       "    .dataframe tbody tr th {\n",
       "        vertical-align: top;\n",
       "    }\n",
       "\n",
       "    .dataframe thead th {\n",
       "        text-align: right;\n",
       "    }\n",
       "</style>\n",
       "<table border=\"1\" class=\"dataframe\">\n",
       "  <thead>\n",
       "    <tr style=\"text-align: right;\">\n",
       "      <th></th>\n",
       "      <th>Unnamed: 0</th>\n",
       "      <th>company_size</th>\n",
       "      <th>joined</th>\n",
       "      <th>location</th>\n",
       "      <th>market</th>\n",
       "      <th>name</th>\n",
       "      <th>pitch</th>\n",
       "      <th>raised</th>\n",
       "      <th>stage</th>\n",
       "      <th>website</th>\n",
       "    </tr>\n",
       "  </thead>\n",
       "  <tbody>\n",
       "    <tr>\n",
       "      <th>0</th>\n",
       "      <td>0</td>\n",
       "      <td>1-10</td>\n",
       "      <td>Dec ’13</td>\n",
       "      <td>Singapore</td>\n",
       "      <td>Big Data</td>\n",
       "      <td>enMarkit</td>\n",
       "      <td>Social Engagement and Business Intelligence Pl...</td>\n",
       "      <td>$11,700</td>\n",
       "      <td>-</td>\n",
       "      <td>enmarkit.com</td>\n",
       "    </tr>\n",
       "    <tr>\n",
       "      <th>1</th>\n",
       "      <td>1</td>\n",
       "      <td>1-10</td>\n",
       "      <td>Feb ’14</td>\n",
       "      <td>Silicon Valley</td>\n",
       "      <td>Productivity Software</td>\n",
       "      <td>Limitless</td>\n",
       "      <td>Intelligent cross device continuity</td>\n",
       "      <td>$12,000</td>\n",
       "      <td>NaN</td>\n",
       "      <td>angel.co</td>\n",
       "    </tr>\n",
       "    <tr>\n",
       "      <th>2</th>\n",
       "      <td>2</td>\n",
       "      <td>1-10</td>\n",
       "      <td>Jul ’12</td>\n",
       "      <td>Detroit</td>\n",
       "      <td>Video Streaming</td>\n",
       "      <td>Reel Deal</td>\n",
       "      <td>Building College Community Through Entertainme...</td>\n",
       "      <td>$12,000</td>\n",
       "      <td>Seed</td>\n",
       "      <td>ReelDeal.tv</td>\n",
       "    </tr>\n",
       "    <tr>\n",
       "      <th>3</th>\n",
       "      <td>3</td>\n",
       "      <td>1-10</td>\n",
       "      <td>Jul ’13</td>\n",
       "      <td>Raleigh</td>\n",
       "      <td>Lifestyle</td>\n",
       "      <td>Walk [Your City]</td>\n",
       "      <td>Online tools to drive offline mobility and hel...</td>\n",
       "      <td>$11,364</td>\n",
       "      <td>Seed</td>\n",
       "      <td>walkyourcity.org</td>\n",
       "    </tr>\n",
       "    <tr>\n",
       "      <th>4</th>\n",
       "      <td>4</td>\n",
       "      <td>1-10</td>\n",
       "      <td>Mar ’14</td>\n",
       "      <td>Ann Arbor</td>\n",
       "      <td>Business Services</td>\n",
       "      <td>Savvy Languages</td>\n",
       "      <td>Free, easy way to learn languages online</td>\n",
       "      <td>$12,000</td>\n",
       "      <td>Seed</td>\n",
       "      <td>savvylanguages.com</td>\n",
       "    </tr>\n",
       "  </tbody>\n",
       "</table>\n",
       "</div>"
      ],
      "text/plain": [
       "   Unnamed: 0 company_size   joined        location                 market  \\\n",
       "0           0         1-10  Dec ’13       Singapore               Big Data   \n",
       "1           1         1-10  Feb ’14  Silicon Valley  Productivity Software   \n",
       "2           2         1-10  Jul ’12         Detroit        Video Streaming   \n",
       "3           3         1-10  Jul ’13         Raleigh              Lifestyle   \n",
       "4           4         1-10  Mar ’14       Ann Arbor      Business Services   \n",
       "\n",
       "               name                                              pitch  \\\n",
       "0          enMarkit  Social Engagement and Business Intelligence Pl...   \n",
       "1         Limitless                Intelligent cross device continuity   \n",
       "2         Reel Deal  Building College Community Through Entertainme...   \n",
       "3  Walk [Your City]  Online tools to drive offline mobility and hel...   \n",
       "4   Savvy Languages           Free, easy way to learn languages online   \n",
       "\n",
       "    raised stage             website  \n",
       "0  $11,700     -        enmarkit.com  \n",
       "1  $12,000   NaN            angel.co  \n",
       "2  $12,000  Seed         ReelDeal.tv  \n",
       "3  $11,364  Seed    walkyourcity.org  \n",
       "4  $12,000  Seed  savvylanguages.com  "
      ]
     },
     "execution_count": 18,
     "metadata": {},
     "output_type": "execute_result"
    }
   ],
   "source": [
    "df = pd.read_csv('all_startups.csv')\n",
    "df.head()"
   ]
  },
  {
   "cell_type": "code",
   "execution_count": 14,
   "metadata": {},
   "outputs": [],
   "source": [
    "import os\n",
    "api_key = os.environ['GMAP_API']\n",
    "\n",
    "def get_coordinates(row):\n",
    "    this_startup = {}\n",
    "    place = row['location']\n",
    "    url = 'https://maps.googleapis.com/maps/api/geocode/json'\n",
    "    keys = {'address': place, 'key': api_key}\n",
    "    geo = requests.get(url,params=keys)\n",
    "    geodata = geo.json()\n",
    "    try:\n",
    "        return pd.Series({'country' : geodata['results'][0]['address_components'][-4]['short_name'] , 'state' : geodata['results'][0]['address_components'][-3]['short_name']})\n",
    "    except:\n",
    "        print('Failed: ', geo.json())"
   ]
  },
  {
   "cell_type": "code",
   "execution_count": 17,
   "metadata": {},
   "outputs": [
    {
     "data": {
      "text/plain": [
       "'{\\n   \"results\" : [\\n      {\\n         \"address_components\" : [\\n            {\\n               \"long_name\" : \"Singapore\",\\n               \"short_name\" : \"SG\",\\n               \"types\" : [ \"country\", \"political\" ]\\n            }\\n         ],\\n         \"formatted_address\" : \"Singapore\",\\n         \"geometry\" : {\\n            \"bounds\" : {\\n               \"northeast\" : {\\n                  \"lat\" : 1.4784001,\\n                  \"lng\" : 104.0945001\\n               },\\n               \"southwest\" : {\\n                  \"lat\" : 1.1496,\\n                  \"lng\" : 103.594\\n               }\\n            },\\n            \"location\" : {\\n               \"lat\" : 1.352083,\\n               \"lng\" : 103.819836\\n            },\\n            \"location_type\" : \"APPROXIMATE\",\\n            \"viewport\" : {\\n               \"northeast\" : {\\n                  \"lat\" : 1.4784001,\\n                  \"lng\" : 104.0945001\\n               },\\n               \"southwest\" : {\\n                  \"lat\" : 1.1496,\\n                  \"lng\" : 103.594\\n               }\\n            }\\n         },\\n         \"place_id\" : \"ChIJdZOLiiMR2jERxPWrUs9peIg\",\\n         \"types\" : [ \"country\", \"political\" ]\\n      }\\n   ],\\n   \"status\" : \"OK\"\\n}\\n'"
      ]
     },
     "execution_count": 17,
     "metadata": {},
     "output_type": "execute_result"
    }
   ],
   "source": [
    "place = 'Singapore'\n",
    "url = 'https://maps.googleapis.com/maps/api/geocode/json'\n",
    "keys = {'address': place, 'key': api_key}\n",
    "geo = requests.get(url,params=keys)\n",
    "geo.text"
   ]
  },
  {
   "cell_type": "code",
   "execution_count": 15,
   "metadata": {},
   "outputs": [
    {
     "name": "stdout",
     "output_type": "stream",
     "text": [
      "Failed:  {'results': [{'address_components': [{'long_name': 'Singapore', 'short_name': 'SG', 'types': ['country', 'political']}], 'formatted_address': 'Singapore', 'geometry': {'bounds': {'northeast': {'lat': 1.4784001, 'lng': 104.0945001}, 'southwest': {'lat': 1.1496, 'lng': 103.594}}, 'location': {'lat': 1.352083, 'lng': 103.819836}, 'location_type': 'APPROXIMATE', 'viewport': {'northeast': {'lat': 1.4784001, 'lng': 104.0945001}, 'southwest': {'lat': 1.1496, 'lng': 103.594}}}, 'place_id': 'ChIJdZOLiiMR2jERxPWrUs9peIg', 'types': ['country', 'political']}], 'status': 'OK'}\n",
      "Failed:  {'results': [{'address_components': [{'long_name': 'Silicon Valley', 'short_name': 'Silicon Valley', 'types': ['colloquial_area', 'political']}, {'long_name': 'California', 'short_name': 'CA', 'types': ['administrative_area_level_1', 'political']}, {'long_name': 'United States', 'short_name': 'US', 'types': ['country', 'political']}], 'formatted_address': 'Silicon Valley, CA, USA', 'geometry': {'bounds': {'northeast': {'lat': 37.5854665, 'lng': -121.7412328}, 'southwest': {'lat': 37.2201406, 'lng': -122.3409633}}, 'location': {'lat': 37.387474, 'lng': -122.0575434}, 'location_type': 'APPROXIMATE', 'viewport': {'northeast': {'lat': 37.5854665, 'lng': -121.7412328}, 'southwest': {'lat': 37.2201406, 'lng': -122.3409633}}}, 'place_id': 'ChIJOcfP0Iq2j4ARDrXUa7ZWs34', 'types': ['colloquial_area', 'political']}], 'status': 'OK'}\n"
     ]
    },
    {
     "data": {
      "text/plain": [
       "0                             None\n",
       "1                             None\n",
       "2          [Detroit, Wayne County]\n",
       "3           [Raleigh, Wake County]\n",
       "4    [Ann Arbor, Washtenaw County]\n",
       "dtype: object"
      ]
     },
     "execution_count": 15,
     "metadata": {},
     "output_type": "execute_result"
    }
   ],
   "source": [
    "df.head().apply(get_coordinates, axis = 1)"
   ]
  },
  {
   "cell_type": "code",
   "execution_count": null,
   "metadata": {},
   "outputs": [],
   "source": []
  }
 ],
 "metadata": {
  "kernelspec": {
   "display_name": "Python 3",
   "language": "python",
   "name": "python3"
  },
  "language_info": {
   "codemirror_mode": {
    "name": "ipython",
    "version": 3
   },
   "file_extension": ".py",
   "mimetype": "text/x-python",
   "name": "python",
   "nbconvert_exporter": "python",
   "pygments_lexer": "ipython3",
   "version": "3.6.5"
  }
 },
 "nbformat": 4,
 "nbformat_minor": 2
}
