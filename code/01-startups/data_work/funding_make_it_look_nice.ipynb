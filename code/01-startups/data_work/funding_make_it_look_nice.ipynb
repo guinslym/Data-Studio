{
 "cells": [
  {
   "cell_type": "code",
   "execution_count": 3,
   "metadata": {},
   "outputs": [],
   "source": [
    "import pandas as pd\n",
    "import matplotlib.pyplot as plt\n",
    "import requests\n",
    "from bs4 import BeautifulSoup\n",
    "import os\n",
    "import re\n",
    "import csv\n",
    "api_key = os.environ['GMAP_API']\n",
    "%matplotlib inline"
   ]
  },
  {
   "cell_type": "code",
   "execution_count": 4,
   "metadata": {},
   "outputs": [
    {
     "data": {
      "text/html": [
       "<div>\n",
       "<style scoped>\n",
       "    .dataframe tbody tr th:only-of-type {\n",
       "        vertical-align: middle;\n",
       "    }\n",
       "\n",
       "    .dataframe tbody tr th {\n",
       "        vertical-align: top;\n",
       "    }\n",
       "\n",
       "    .dataframe thead th {\n",
       "        text-align: right;\n",
       "    }\n",
       "</style>\n",
       "<table border=\"1\" class=\"dataframe\">\n",
       "  <thead>\n",
       "    <tr style=\"text-align: right;\">\n",
       "      <th></th>\n",
       "      <th>company_size</th>\n",
       "      <th>joined</th>\n",
       "      <th>location</th>\n",
       "      <th>market</th>\n",
       "      <th>name</th>\n",
       "      <th>pitch</th>\n",
       "      <th>raised</th>\n",
       "      <th>stage</th>\n",
       "      <th>website</th>\n",
       "    </tr>\n",
       "  </thead>\n",
       "  <tbody>\n",
       "    <tr>\n",
       "      <th>0</th>\n",
       "      <td>1-10</td>\n",
       "      <td>Dec ’13</td>\n",
       "      <td>Singapore</td>\n",
       "      <td>Big Data</td>\n",
       "      <td>enMarkit</td>\n",
       "      <td>Social Engagement and Business Intelligence Pl...</td>\n",
       "      <td>$11,700</td>\n",
       "      <td>-</td>\n",
       "      <td>enmarkit.com</td>\n",
       "    </tr>\n",
       "    <tr>\n",
       "      <th>1</th>\n",
       "      <td>1-10</td>\n",
       "      <td>Feb ’14</td>\n",
       "      <td>Silicon Valley</td>\n",
       "      <td>Productivity Software</td>\n",
       "      <td>Limitless</td>\n",
       "      <td>Intelligent cross device continuity</td>\n",
       "      <td>$12,000</td>\n",
       "      <td>NaN</td>\n",
       "      <td>angel.co</td>\n",
       "    </tr>\n",
       "    <tr>\n",
       "      <th>2</th>\n",
       "      <td>1-10</td>\n",
       "      <td>Jul ’12</td>\n",
       "      <td>Detroit</td>\n",
       "      <td>Video Streaming</td>\n",
       "      <td>Reel Deal</td>\n",
       "      <td>Building College Community Through Entertainme...</td>\n",
       "      <td>$12,000</td>\n",
       "      <td>Seed</td>\n",
       "      <td>ReelDeal.tv</td>\n",
       "    </tr>\n",
       "    <tr>\n",
       "      <th>3</th>\n",
       "      <td>1-10</td>\n",
       "      <td>Jul ’13</td>\n",
       "      <td>Raleigh</td>\n",
       "      <td>Lifestyle</td>\n",
       "      <td>Walk [Your City]</td>\n",
       "      <td>Online tools to drive offline mobility and hel...</td>\n",
       "      <td>$11,364</td>\n",
       "      <td>Seed</td>\n",
       "      <td>walkyourcity.org</td>\n",
       "    </tr>\n",
       "    <tr>\n",
       "      <th>4</th>\n",
       "      <td>1-10</td>\n",
       "      <td>Mar ’14</td>\n",
       "      <td>Ann Arbor</td>\n",
       "      <td>Business Services</td>\n",
       "      <td>Savvy Languages</td>\n",
       "      <td>Free, easy way to learn languages online</td>\n",
       "      <td>$12,000</td>\n",
       "      <td>Seed</td>\n",
       "      <td>savvylanguages.com</td>\n",
       "    </tr>\n",
       "  </tbody>\n",
       "</table>\n",
       "</div>"
      ],
      "text/plain": [
       "  company_size   joined        location                 market  \\\n",
       "0         1-10  Dec ’13       Singapore               Big Data   \n",
       "1         1-10  Feb ’14  Silicon Valley  Productivity Software   \n",
       "2         1-10  Jul ’12         Detroit        Video Streaming   \n",
       "3         1-10  Jul ’13         Raleigh              Lifestyle   \n",
       "4         1-10  Mar ’14       Ann Arbor      Business Services   \n",
       "\n",
       "               name                                              pitch  \\\n",
       "0          enMarkit  Social Engagement and Business Intelligence Pl...   \n",
       "1         Limitless                Intelligent cross device continuity   \n",
       "2         Reel Deal  Building College Community Through Entertainme...   \n",
       "3  Walk [Your City]  Online tools to drive offline mobility and hel...   \n",
       "4   Savvy Languages           Free, easy way to learn languages online   \n",
       "\n",
       "    raised stage             website  \n",
       "0  $11,700     -        enmarkit.com  \n",
       "1  $12,000   NaN            angel.co  \n",
       "2  $12,000  Seed         ReelDeal.tv  \n",
       "3  $11,364  Seed    walkyourcity.org  \n",
       "4  $12,000  Seed  savvylanguages.com  "
      ]
     },
     "execution_count": 4,
     "metadata": {},
     "output_type": "execute_result"
    }
   ],
   "source": [
    "df = pd.read_csv('all_startups.csv')\n",
    "del df['Unnamed: 0']\n",
    "df.head()"
   ]
  },
  {
   "cell_type": "code",
   "execution_count": null,
   "metadata": {},
   "outputs": [],
   "source": [
    "def get_location(loc):\n",
    "    this_company = {}\n",
    "    component = loc['location']\n",
    "    url = 'https://maps.googleapis.com/maps/api/geocode/json'\n",
    "    keys = {'address' : component, 'key': api_key}\n",
    "    geo = requests.get(url,params=keys)\n",
    "    geodata = geo.json()\n",
    "    try:\n",
    "        return geodata['results'][0]['formatted_address']\n",
    "    except:\n",
    "        print(loc['name'], component)"
   ]
  },
  {
   "cell_type": "code",
   "execution_count": null,
   "metadata": {},
   "outputs": [],
   "source": [
    "df['location_long'] = df.apply(get_location, axis = 1)"
   ]
  },
  {
   "cell_type": "code",
   "execution_count": null,
   "metadata": {},
   "outputs": [],
   "source": [
    "df = df.drop_duplicates()\n",
    "df.to_csv('all_startups_geocoded.csv', index = False)"
   ]
  },
  {
   "cell_type": "code",
   "execution_count": 5,
   "metadata": {},
   "outputs": [],
   "source": [
    "df = pd.read_csv('all_startups_geocoded.csv')"
   ]
  },
  {
   "cell_type": "code",
   "execution_count": 3,
   "metadata": {},
   "outputs": [],
   "source": [
    "def get_usd(amnt, curr):\n",
    "    url = 'https://www.google.com/search?q=1+'+str(curr)+'+in+usd'\n",
    "    raw_html = requests.get(url)\n",
    "    soup_doc = BeautifulSoup(raw_html.content, \"html5lib\")\n",
    "    rate = float(soup_doc.find(class_ = 'J7UKTe').text.split(' = ')[1].replace(' United States Dollar', ''))\n",
    "    return round(float(int(amnt)*rate), 2)"
   ]
  },
  {
   "cell_type": "code",
   "execution_count": 4,
   "metadata": {},
   "outputs": [],
   "source": [
    "def get_currency(row):\n",
    "    funding = row['raised']\n",
    "    this_company={}\n",
    "    this_company['raised_curr'] = re.findall(r'(^.*?)\\d', funding)[0]\n",
    "    this_company['raised_amnt'] = ''.join(re.findall(r'([\\d]+)', funding))\n",
    "    if this_company['raised_curr'] != '$':\n",
    "        this_company['raised_amnt_orignal'] = this_company['raised_amnt']\n",
    "        try:\n",
    "            this_company['raised_amnt'] = get_usd(this_company['raised_amnt'], this_company['raised_curr'])\n",
    "        except: \n",
    "            this_company['raised_amnt'] = 'ERROR'\n",
    "            print(row['name'], funding)\n",
    "    return pd.Series(this_company)"
   ]
  },
  {
   "cell_type": "code",
   "execution_count": 5,
   "metadata": {},
   "outputs": [
    {
     "name": "stdout",
     "output_type": "stream",
     "text": [
      "HireMe €117,000\n",
      "nyris €1,570,000\n",
      "Triptease £11,040,000\n"
     ]
    }
   ],
   "source": [
    "df = df.apply(get_currency, axis = 1).join(df)"
   ]
  },
  {
   "cell_type": "code",
   "execution_count": 7,
   "metadata": {},
   "outputs": [
    {
     "data": {
      "text/html": [
       "<div>\n",
       "<style scoped>\n",
       "    .dataframe tbody tr th:only-of-type {\n",
       "        vertical-align: middle;\n",
       "    }\n",
       "\n",
       "    .dataframe tbody tr th {\n",
       "        vertical-align: top;\n",
       "    }\n",
       "\n",
       "    .dataframe thead th {\n",
       "        text-align: right;\n",
       "    }\n",
       "</style>\n",
       "<table border=\"1\" class=\"dataframe\">\n",
       "  <thead>\n",
       "    <tr style=\"text-align: right;\">\n",
       "      <th></th>\n",
       "      <th>raised_amnt</th>\n",
       "      <th>raised_amnt_orignal</th>\n",
       "      <th>raised_curr</th>\n",
       "      <th>Unnamed: 0</th>\n",
       "      <th>company_size</th>\n",
       "      <th>joined</th>\n",
       "      <th>location</th>\n",
       "      <th>market</th>\n",
       "      <th>name</th>\n",
       "      <th>pitch</th>\n",
       "      <th>raised</th>\n",
       "      <th>stage</th>\n",
       "      <th>website</th>\n",
       "      <th>location_long</th>\n",
       "    </tr>\n",
       "  </thead>\n",
       "  <tbody>\n",
       "    <tr>\n",
       "      <th>0</th>\n",
       "      <td>11700</td>\n",
       "      <td>NaN</td>\n",
       "      <td>$</td>\n",
       "      <td>0</td>\n",
       "      <td>1-10</td>\n",
       "      <td>2013-12-01</td>\n",
       "      <td>Singapore</td>\n",
       "      <td>Big Data</td>\n",
       "      <td>enMarkit</td>\n",
       "      <td>Social Engagement and Business Intelligence Pl...</td>\n",
       "      <td>$11,700</td>\n",
       "      <td>-</td>\n",
       "      <td>enmarkit.com</td>\n",
       "      <td>Singapore</td>\n",
       "    </tr>\n",
       "    <tr>\n",
       "      <th>1</th>\n",
       "      <td>12000</td>\n",
       "      <td>NaN</td>\n",
       "      <td>$</td>\n",
       "      <td>1</td>\n",
       "      <td>1-10</td>\n",
       "      <td>2014-02-01</td>\n",
       "      <td>Silicon Valley</td>\n",
       "      <td>Productivity Software</td>\n",
       "      <td>Limitless</td>\n",
       "      <td>Intelligent cross device continuity</td>\n",
       "      <td>$12,000</td>\n",
       "      <td>NaN</td>\n",
       "      <td>angel.co</td>\n",
       "      <td>Silicon Valley, CA, USA</td>\n",
       "    </tr>\n",
       "    <tr>\n",
       "      <th>2</th>\n",
       "      <td>12000</td>\n",
       "      <td>NaN</td>\n",
       "      <td>$</td>\n",
       "      <td>2</td>\n",
       "      <td>1-10</td>\n",
       "      <td>2012-07-01</td>\n",
       "      <td>Detroit</td>\n",
       "      <td>Video Streaming</td>\n",
       "      <td>Reel Deal</td>\n",
       "      <td>Building College Community Through Entertainme...</td>\n",
       "      <td>$12,000</td>\n",
       "      <td>Seed</td>\n",
       "      <td>ReelDeal.tv</td>\n",
       "      <td>Detroit, MI, USA</td>\n",
       "    </tr>\n",
       "    <tr>\n",
       "      <th>3</th>\n",
       "      <td>11364</td>\n",
       "      <td>NaN</td>\n",
       "      <td>$</td>\n",
       "      <td>3</td>\n",
       "      <td>1-10</td>\n",
       "      <td>2013-07-01</td>\n",
       "      <td>Raleigh</td>\n",
       "      <td>Lifestyle</td>\n",
       "      <td>Walk [Your City]</td>\n",
       "      <td>Online tools to drive offline mobility and hel...</td>\n",
       "      <td>$11,364</td>\n",
       "      <td>Seed</td>\n",
       "      <td>walkyourcity.org</td>\n",
       "      <td>Raleigh, NC, USA</td>\n",
       "    </tr>\n",
       "    <tr>\n",
       "      <th>4</th>\n",
       "      <td>12000</td>\n",
       "      <td>NaN</td>\n",
       "      <td>$</td>\n",
       "      <td>4</td>\n",
       "      <td>1-10</td>\n",
       "      <td>2014-03-01</td>\n",
       "      <td>Ann Arbor</td>\n",
       "      <td>Business Services</td>\n",
       "      <td>Savvy Languages</td>\n",
       "      <td>Free, easy way to learn languages online</td>\n",
       "      <td>$12,000</td>\n",
       "      <td>Seed</td>\n",
       "      <td>savvylanguages.com</td>\n",
       "      <td>Ann Arbor, MI, USA</td>\n",
       "    </tr>\n",
       "  </tbody>\n",
       "</table>\n",
       "</div>"
      ],
      "text/plain": [
       "  raised_amnt raised_amnt_orignal raised_curr  Unnamed: 0 company_size  \\\n",
       "0       11700                 NaN           $           0         1-10   \n",
       "1       12000                 NaN           $           1         1-10   \n",
       "2       12000                 NaN           $           2         1-10   \n",
       "3       11364                 NaN           $           3         1-10   \n",
       "4       12000                 NaN           $           4         1-10   \n",
       "\n",
       "      joined        location                 market              name  \\\n",
       "0 2013-12-01       Singapore               Big Data          enMarkit   \n",
       "1 2014-02-01  Silicon Valley  Productivity Software         Limitless   \n",
       "2 2012-07-01         Detroit        Video Streaming         Reel Deal   \n",
       "3 2013-07-01         Raleigh              Lifestyle  Walk [Your City]   \n",
       "4 2014-03-01       Ann Arbor      Business Services   Savvy Languages   \n",
       "\n",
       "                                               pitch   raised stage  \\\n",
       "0  Social Engagement and Business Intelligence Pl...  $11,700     -   \n",
       "1                Intelligent cross device continuity  $12,000   NaN   \n",
       "2  Building College Community Through Entertainme...  $12,000  Seed   \n",
       "3  Online tools to drive offline mobility and hel...  $11,364  Seed   \n",
       "4           Free, easy way to learn languages online  $12,000  Seed   \n",
       "\n",
       "              website            location_long  \n",
       "0        enmarkit.com                Singapore  \n",
       "1            angel.co  Silicon Valley, CA, USA  \n",
       "2         ReelDeal.tv         Detroit, MI, USA  \n",
       "3    walkyourcity.org         Raleigh, NC, USA  \n",
       "4  savvylanguages.com       Ann Arbor, MI, USA  "
      ]
     },
     "execution_count": 7,
     "metadata": {},
     "output_type": "execute_result"
    }
   ],
   "source": [
    "df['joined'] = pd.to_datetime(df['joined'], format='%b ’%y')"
   ]
  },
  {
   "cell_type": "code",
   "execution_count": 8,
   "metadata": {},
   "outputs": [
    {
     "data": {
      "text/html": [
       "<div>\n",
       "<style scoped>\n",
       "    .dataframe tbody tr th:only-of-type {\n",
       "        vertical-align: middle;\n",
       "    }\n",
       "\n",
       "    .dataframe tbody tr th {\n",
       "        vertical-align: top;\n",
       "    }\n",
       "\n",
       "    .dataframe thead th {\n",
       "        text-align: right;\n",
       "    }\n",
       "</style>\n",
       "<table border=\"1\" class=\"dataframe\">\n",
       "  <thead>\n",
       "    <tr style=\"text-align: right;\">\n",
       "      <th></th>\n",
       "      <th>continent</th>\n",
       "      <th>country</th>\n",
       "      <th>state</th>\n",
       "      <th>raised_amnt</th>\n",
       "      <th>raised_amnt_orignal</th>\n",
       "      <th>raised_curr</th>\n",
       "      <th>Unnamed: 0</th>\n",
       "      <th>company_size</th>\n",
       "      <th>joined</th>\n",
       "      <th>location</th>\n",
       "      <th>market</th>\n",
       "      <th>name</th>\n",
       "      <th>pitch</th>\n",
       "      <th>raised</th>\n",
       "      <th>stage</th>\n",
       "      <th>website</th>\n",
       "      <th>location_long</th>\n",
       "    </tr>\n",
       "  </thead>\n",
       "  <tbody>\n",
       "    <tr>\n",
       "      <th>0</th>\n",
       "      <td>Asia</td>\n",
       "      <td>Singapore</td>\n",
       "      <td>NaN</td>\n",
       "      <td>11700.0</td>\n",
       "      <td>NaN</td>\n",
       "      <td>$</td>\n",
       "      <td>0</td>\n",
       "      <td>1-10</td>\n",
       "      <td>2013-12-01</td>\n",
       "      <td>Singapore</td>\n",
       "      <td>Big Data</td>\n",
       "      <td>enMarkit</td>\n",
       "      <td>Social Engagement and Business Intelligence Pl...</td>\n",
       "      <td>$11,700</td>\n",
       "      <td>-</td>\n",
       "      <td>enmarkit.com</td>\n",
       "      <td>Singapore</td>\n",
       "    </tr>\n",
       "    <tr>\n",
       "      <th>1</th>\n",
       "      <td>North America</td>\n",
       "      <td>USA</td>\n",
       "      <td>CA</td>\n",
       "      <td>12000.0</td>\n",
       "      <td>NaN</td>\n",
       "      <td>$</td>\n",
       "      <td>1</td>\n",
       "      <td>1-10</td>\n",
       "      <td>2014-02-01</td>\n",
       "      <td>Silicon Valley</td>\n",
       "      <td>Productivity Software</td>\n",
       "      <td>Limitless</td>\n",
       "      <td>Intelligent cross device continuity</td>\n",
       "      <td>$12,000</td>\n",
       "      <td>NaN</td>\n",
       "      <td>angel.co</td>\n",
       "      <td>Silicon Valley, CA, USA</td>\n",
       "    </tr>\n",
       "    <tr>\n",
       "      <th>2</th>\n",
       "      <td>North America</td>\n",
       "      <td>USA</td>\n",
       "      <td>MI</td>\n",
       "      <td>12000.0</td>\n",
       "      <td>NaN</td>\n",
       "      <td>$</td>\n",
       "      <td>2</td>\n",
       "      <td>1-10</td>\n",
       "      <td>2012-07-01</td>\n",
       "      <td>Detroit</td>\n",
       "      <td>Video Streaming</td>\n",
       "      <td>Reel Deal</td>\n",
       "      <td>Building College Community Through Entertainme...</td>\n",
       "      <td>$12,000</td>\n",
       "      <td>Seed</td>\n",
       "      <td>ReelDeal.tv</td>\n",
       "      <td>Detroit, MI, USA</td>\n",
       "    </tr>\n",
       "    <tr>\n",
       "      <th>3</th>\n",
       "      <td>North America</td>\n",
       "      <td>USA</td>\n",
       "      <td>NC</td>\n",
       "      <td>11364.0</td>\n",
       "      <td>NaN</td>\n",
       "      <td>$</td>\n",
       "      <td>3</td>\n",
       "      <td>1-10</td>\n",
       "      <td>2013-07-01</td>\n",
       "      <td>Raleigh</td>\n",
       "      <td>Lifestyle</td>\n",
       "      <td>Walk [Your City]</td>\n",
       "      <td>Online tools to drive offline mobility and hel...</td>\n",
       "      <td>$11,364</td>\n",
       "      <td>Seed</td>\n",
       "      <td>walkyourcity.org</td>\n",
       "      <td>Raleigh, NC, USA</td>\n",
       "    </tr>\n",
       "    <tr>\n",
       "      <th>4</th>\n",
       "      <td>North America</td>\n",
       "      <td>USA</td>\n",
       "      <td>MI</td>\n",
       "      <td>12000.0</td>\n",
       "      <td>NaN</td>\n",
       "      <td>$</td>\n",
       "      <td>4</td>\n",
       "      <td>1-10</td>\n",
       "      <td>2014-03-01</td>\n",
       "      <td>Ann Arbor</td>\n",
       "      <td>Business Services</td>\n",
       "      <td>Savvy Languages</td>\n",
       "      <td>Free, easy way to learn languages online</td>\n",
       "      <td>$12,000</td>\n",
       "      <td>Seed</td>\n",
       "      <td>savvylanguages.com</td>\n",
       "      <td>Ann Arbor, MI, USA</td>\n",
       "    </tr>\n",
       "  </tbody>\n",
       "</table>\n",
       "</div>"
      ],
      "text/plain": [
       "       continent    country state  raised_amnt  raised_amnt_orignal  \\\n",
       "0           Asia  Singapore   NaN      11700.0                  NaN   \n",
       "1  North America        USA    CA      12000.0                  NaN   \n",
       "2  North America        USA    MI      12000.0                  NaN   \n",
       "3  North America        USA    NC      11364.0                  NaN   \n",
       "4  North America        USA    MI      12000.0                  NaN   \n",
       "\n",
       "  raised_curr  Unnamed: 0 company_size      joined        location  \\\n",
       "0           $           0         1-10  2013-12-01       Singapore   \n",
       "1           $           1         1-10  2014-02-01  Silicon Valley   \n",
       "2           $           2         1-10  2012-07-01         Detroit   \n",
       "3           $           3         1-10  2013-07-01         Raleigh   \n",
       "4           $           4         1-10  2014-03-01       Ann Arbor   \n",
       "\n",
       "                  market              name  \\\n",
       "0               Big Data          enMarkit   \n",
       "1  Productivity Software         Limitless   \n",
       "2        Video Streaming         Reel Deal   \n",
       "3              Lifestyle  Walk [Your City]   \n",
       "4      Business Services   Savvy Languages   \n",
       "\n",
       "                                               pitch   raised stage  \\\n",
       "0  Social Engagement and Business Intelligence Pl...  $11,700     -   \n",
       "1                Intelligent cross device continuity  $12,000   NaN   \n",
       "2  Building College Community Through Entertainme...  $12,000  Seed   \n",
       "3  Online tools to drive offline mobility and hel...  $11,364  Seed   \n",
       "4           Free, easy way to learn languages online  $12,000  Seed   \n",
       "\n",
       "              website            location_long  \n",
       "0        enmarkit.com                Singapore  \n",
       "1            angel.co  Silicon Valley, CA, USA  \n",
       "2         ReelDeal.tv         Detroit, MI, USA  \n",
       "3    walkyourcity.org         Raleigh, NC, USA  \n",
       "4  savvylanguages.com       Ann Arbor, MI, USA  "
      ]
     },
     "execution_count": 8,
     "metadata": {},
     "output_type": "execute_result"
    }
   ],
   "source": [
    "df = pd.read_csv('all_startups_geocoded_currency.csv')\n",
    "df.head()"
   ]
  },
  {
   "cell_type": "code",
   "execution_count": 7,
   "metadata": {},
   "outputs": [
    {
     "name": "stderr",
     "output_type": "stream",
     "text": [
      "/home/jls/.local/lib/python3.6/site-packages/pandas/core/ops.py:1167: FutureWarning: elementwise comparison failed; returning scalar instead, but in the future will perform elementwise comparison\n",
      "  result = method(y)\n"
     ]
    },
    {
     "ename": "TypeError",
     "evalue": "invalid type comparison",
     "output_type": "error",
     "traceback": [
      "\u001b[0;31m---------------------------------------------------------------------------\u001b[0m",
      "\u001b[0;31mTypeError\u001b[0m                                 Traceback (most recent call last)",
      "\u001b[0;32m<ipython-input-7-4401c0b30dd0>\u001b[0m in \u001b[0;36m<module>\u001b[0;34m()\u001b[0m\n\u001b[1;32m      1\u001b[0m \u001b[0;31m#too lazy to check what went wrong - it's only 3 entries anyways\u001b[0m\u001b[0;34m\u001b[0m\u001b[0;34m\u001b[0m\u001b[0m\n\u001b[0;32m----> 2\u001b[0;31m \u001b[0mdf\u001b[0m \u001b[0;34m=\u001b[0m \u001b[0mdf\u001b[0m\u001b[0;34m[\u001b[0m\u001b[0mdf\u001b[0m\u001b[0;34m.\u001b[0m\u001b[0mraised_amnt\u001b[0m \u001b[0;34m!=\u001b[0m \u001b[0;34m'ERROR'\u001b[0m\u001b[0;34m]\u001b[0m\u001b[0;34m\u001b[0m\u001b[0m\n\u001b[0m",
      "\u001b[0;32m~/.local/lib/python3.6/site-packages/pandas/core/ops.py\u001b[0m in \u001b[0;36mwrapper\u001b[0;34m(self, other, axis)\u001b[0m\n\u001b[1;32m   1281\u001b[0m \u001b[0;34m\u001b[0m\u001b[0m\n\u001b[1;32m   1282\u001b[0m             \u001b[0;32mwith\u001b[0m \u001b[0mnp\u001b[0m\u001b[0;34m.\u001b[0m\u001b[0merrstate\u001b[0m\u001b[0;34m(\u001b[0m\u001b[0mall\u001b[0m\u001b[0;34m=\u001b[0m\u001b[0;34m'ignore'\u001b[0m\u001b[0;34m)\u001b[0m\u001b[0;34m:\u001b[0m\u001b[0;34m\u001b[0m\u001b[0m\n\u001b[0;32m-> 1283\u001b[0;31m                 \u001b[0mres\u001b[0m \u001b[0;34m=\u001b[0m \u001b[0mna_op\u001b[0m\u001b[0;34m(\u001b[0m\u001b[0mvalues\u001b[0m\u001b[0;34m,\u001b[0m \u001b[0mother\u001b[0m\u001b[0;34m)\u001b[0m\u001b[0;34m\u001b[0m\u001b[0m\n\u001b[0m\u001b[1;32m   1284\u001b[0m             \u001b[0;32mif\u001b[0m \u001b[0mis_scalar\u001b[0m\u001b[0;34m(\u001b[0m\u001b[0mres\u001b[0m\u001b[0;34m)\u001b[0m\u001b[0;34m:\u001b[0m\u001b[0;34m\u001b[0m\u001b[0m\n\u001b[1;32m   1285\u001b[0m                 raise TypeError('Could not compare {typ} type with Series'\n",
      "\u001b[0;32m~/.local/lib/python3.6/site-packages/pandas/core/ops.py\u001b[0m in \u001b[0;36mna_op\u001b[0;34m(x, y)\u001b[0m\n\u001b[1;32m   1167\u001b[0m                     \u001b[0mresult\u001b[0m \u001b[0;34m=\u001b[0m \u001b[0mmethod\u001b[0m\u001b[0;34m(\u001b[0m\u001b[0my\u001b[0m\u001b[0;34m)\u001b[0m\u001b[0;34m\u001b[0m\u001b[0m\n\u001b[1;32m   1168\u001b[0m                 \u001b[0;32mif\u001b[0m \u001b[0mresult\u001b[0m \u001b[0;32mis\u001b[0m \u001b[0mNotImplemented\u001b[0m\u001b[0;34m:\u001b[0m\u001b[0;34m\u001b[0m\u001b[0m\n\u001b[0;32m-> 1169\u001b[0;31m                     \u001b[0;32mraise\u001b[0m \u001b[0mTypeError\u001b[0m\u001b[0;34m(\u001b[0m\u001b[0;34m\"invalid type comparison\"\u001b[0m\u001b[0;34m)\u001b[0m\u001b[0;34m\u001b[0m\u001b[0m\n\u001b[0m\u001b[1;32m   1170\u001b[0m             \u001b[0;32melse\u001b[0m\u001b[0;34m:\u001b[0m\u001b[0;34m\u001b[0m\u001b[0m\n\u001b[1;32m   1171\u001b[0m                 \u001b[0mresult\u001b[0m \u001b[0;34m=\u001b[0m \u001b[0mop\u001b[0m\u001b[0;34m(\u001b[0m\u001b[0mx\u001b[0m\u001b[0;34m,\u001b[0m \u001b[0my\u001b[0m\u001b[0;34m)\u001b[0m\u001b[0;34m\u001b[0m\u001b[0m\n",
      "\u001b[0;31mTypeError\u001b[0m: invalid type comparison"
     ]
    }
   ],
   "source": [
    "#too lazy to check what went wrong - it's only 3 entries anyways\n",
    "df = df[df.raised_amnt != 'ERROR']"
   ]
  },
  {
   "cell_type": "code",
   "execution_count": 42,
   "metadata": {},
   "outputs": [],
   "source": [
    "def get_country_state(row):\n",
    "    location = row['location_long']\n",
    "    this_location = {}\n",
    "    try:\n",
    "        locations = location.split(',')\n",
    "        this_location['country'] = locations[-1].strip()\n",
    "        if this_location['country'] == 'USA':\n",
    "            this_location['state'] = re.findall(r'([A-Z]{2})', locations[-2])[0]            \n",
    "    except:\n",
    "        pass\n",
    "        #this_location['country'] = location\n",
    "    return pd.Series(this_location)"
   ]
  },
  {
   "cell_type": "code",
   "execution_count": 43,
   "metadata": {},
   "outputs": [],
   "source": [
    "df = df.apply(get_country_state, axis = 1).join(df)"
   ]
  },
  {
   "cell_type": "code",
   "execution_count": 9,
   "metadata": {},
   "outputs": [
    {
     "data": {
      "text/plain": [
       "continent               object\n",
       "country                 object\n",
       "state                   object\n",
       "raised_amnt            float64\n",
       "raised_amnt_orignal    float64\n",
       "raised_curr             object\n",
       "Unnamed: 0               int64\n",
       "company_size            object\n",
       "joined                  object\n",
       "location                object\n",
       "market                  object\n",
       "name                    object\n",
       "pitch                   object\n",
       "raised                  object\n",
       "stage                   object\n",
       "website                 object\n",
       "location_long           object\n",
       "dtype: object"
      ]
     },
     "execution_count": 9,
     "metadata": {},
     "output_type": "execute_result"
    }
   ],
   "source": [
    "df.dtypes"
   ]
  },
  {
   "cell_type": "code",
   "execution_count": 11,
   "metadata": {},
   "outputs": [
    {
     "data": {
      "text/plain": [
       "continent               object\n",
       "country                 object\n",
       "state                   object\n",
       "raised_amnt            float64\n",
       "raised_amnt_orignal    float64\n",
       "raised_curr             object\n",
       "company_size            object\n",
       "joined                  object\n",
       "location                object\n",
       "market                  object\n",
       "name                    object\n",
       "pitch                   object\n",
       "raised                  object\n",
       "stage                   object\n",
       "website                 object\n",
       "location_long           object\n",
       "dtype: object"
      ]
     },
     "execution_count": 11,
     "metadata": {},
     "output_type": "execute_result"
    }
   ],
   "source": [
    "del df['Unnamed: 0']\n",
    "df['raised_amnt'] = df.raised_amnt.astype(float)\n",
    "df.dtypes"
   ]
  },
  {
   "cell_type": "code",
   "execution_count": 44,
   "metadata": {},
   "outputs": [
    {
     "data": {
      "text/html": [
       "<div>\n",
       "<style scoped>\n",
       "    .dataframe tbody tr th:only-of-type {\n",
       "        vertical-align: middle;\n",
       "    }\n",
       "\n",
       "    .dataframe tbody tr th {\n",
       "        vertical-align: top;\n",
       "    }\n",
       "\n",
       "    .dataframe thead th {\n",
       "        text-align: right;\n",
       "    }\n",
       "</style>\n",
       "<table border=\"1\" class=\"dataframe\">\n",
       "  <thead>\n",
       "    <tr style=\"text-align: right;\">\n",
       "      <th></th>\n",
       "      <th>country</th>\n",
       "      <th>state</th>\n",
       "      <th>raised_amnt</th>\n",
       "      <th>raised_amnt_orignal</th>\n",
       "      <th>raised_curr</th>\n",
       "      <th>Unnamed: 0</th>\n",
       "      <th>company_size</th>\n",
       "      <th>joined</th>\n",
       "      <th>location</th>\n",
       "      <th>market</th>\n",
       "      <th>name</th>\n",
       "      <th>pitch</th>\n",
       "      <th>raised</th>\n",
       "      <th>stage</th>\n",
       "      <th>website</th>\n",
       "      <th>location_long</th>\n",
       "    </tr>\n",
       "  </thead>\n",
       "  <tbody>\n",
       "    <tr>\n",
       "      <th>0</th>\n",
       "      <td>Singapore</td>\n",
       "      <td>NaN</td>\n",
       "      <td>11700</td>\n",
       "      <td>NaN</td>\n",
       "      <td>$</td>\n",
       "      <td>0</td>\n",
       "      <td>1-10</td>\n",
       "      <td>2013-12-01</td>\n",
       "      <td>Singapore</td>\n",
       "      <td>Big Data</td>\n",
       "      <td>enMarkit</td>\n",
       "      <td>Social Engagement and Business Intelligence Pl...</td>\n",
       "      <td>$11,700</td>\n",
       "      <td>-</td>\n",
       "      <td>enmarkit.com</td>\n",
       "      <td>Singapore</td>\n",
       "    </tr>\n",
       "    <tr>\n",
       "      <th>1</th>\n",
       "      <td>USA</td>\n",
       "      <td>CA</td>\n",
       "      <td>12000</td>\n",
       "      <td>NaN</td>\n",
       "      <td>$</td>\n",
       "      <td>1</td>\n",
       "      <td>1-10</td>\n",
       "      <td>2014-02-01</td>\n",
       "      <td>Silicon Valley</td>\n",
       "      <td>Productivity Software</td>\n",
       "      <td>Limitless</td>\n",
       "      <td>Intelligent cross device continuity</td>\n",
       "      <td>$12,000</td>\n",
       "      <td>NaN</td>\n",
       "      <td>angel.co</td>\n",
       "      <td>Silicon Valley, CA, USA</td>\n",
       "    </tr>\n",
       "    <tr>\n",
       "      <th>2</th>\n",
       "      <td>USA</td>\n",
       "      <td>MI</td>\n",
       "      <td>12000</td>\n",
       "      <td>NaN</td>\n",
       "      <td>$</td>\n",
       "      <td>2</td>\n",
       "      <td>1-10</td>\n",
       "      <td>2012-07-01</td>\n",
       "      <td>Detroit</td>\n",
       "      <td>Video Streaming</td>\n",
       "      <td>Reel Deal</td>\n",
       "      <td>Building College Community Through Entertainme...</td>\n",
       "      <td>$12,000</td>\n",
       "      <td>Seed</td>\n",
       "      <td>ReelDeal.tv</td>\n",
       "      <td>Detroit, MI, USA</td>\n",
       "    </tr>\n",
       "    <tr>\n",
       "      <th>3</th>\n",
       "      <td>USA</td>\n",
       "      <td>NC</td>\n",
       "      <td>11364</td>\n",
       "      <td>NaN</td>\n",
       "      <td>$</td>\n",
       "      <td>3</td>\n",
       "      <td>1-10</td>\n",
       "      <td>2013-07-01</td>\n",
       "      <td>Raleigh</td>\n",
       "      <td>Lifestyle</td>\n",
       "      <td>Walk [Your City]</td>\n",
       "      <td>Online tools to drive offline mobility and hel...</td>\n",
       "      <td>$11,364</td>\n",
       "      <td>Seed</td>\n",
       "      <td>walkyourcity.org</td>\n",
       "      <td>Raleigh, NC, USA</td>\n",
       "    </tr>\n",
       "    <tr>\n",
       "      <th>4</th>\n",
       "      <td>USA</td>\n",
       "      <td>MI</td>\n",
       "      <td>12000</td>\n",
       "      <td>NaN</td>\n",
       "      <td>$</td>\n",
       "      <td>4</td>\n",
       "      <td>1-10</td>\n",
       "      <td>2014-03-01</td>\n",
       "      <td>Ann Arbor</td>\n",
       "      <td>Business Services</td>\n",
       "      <td>Savvy Languages</td>\n",
       "      <td>Free, easy way to learn languages online</td>\n",
       "      <td>$12,000</td>\n",
       "      <td>Seed</td>\n",
       "      <td>savvylanguages.com</td>\n",
       "      <td>Ann Arbor, MI, USA</td>\n",
       "    </tr>\n",
       "  </tbody>\n",
       "</table>\n",
       "</div>"
      ],
      "text/plain": [
       "     country state raised_amnt  raised_amnt_orignal raised_curr  Unnamed: 0  \\\n",
       "0  Singapore   NaN       11700                  NaN           $           0   \n",
       "1        USA    CA       12000                  NaN           $           1   \n",
       "2        USA    MI       12000                  NaN           $           2   \n",
       "3        USA    NC       11364                  NaN           $           3   \n",
       "4        USA    MI       12000                  NaN           $           4   \n",
       "\n",
       "  company_size      joined        location                 market  \\\n",
       "0         1-10  2013-12-01       Singapore               Big Data   \n",
       "1         1-10  2014-02-01  Silicon Valley  Productivity Software   \n",
       "2         1-10  2012-07-01         Detroit        Video Streaming   \n",
       "3         1-10  2013-07-01         Raleigh              Lifestyle   \n",
       "4         1-10  2014-03-01       Ann Arbor      Business Services   \n",
       "\n",
       "               name                                              pitch  \\\n",
       "0          enMarkit  Social Engagement and Business Intelligence Pl...   \n",
       "1         Limitless                Intelligent cross device continuity   \n",
       "2         Reel Deal  Building College Community Through Entertainme...   \n",
       "3  Walk [Your City]  Online tools to drive offline mobility and hel...   \n",
       "4   Savvy Languages           Free, easy way to learn languages online   \n",
       "\n",
       "    raised stage             website            location_long  \n",
       "0  $11,700     -        enmarkit.com                Singapore  \n",
       "1  $12,000   NaN            angel.co  Silicon Valley, CA, USA  \n",
       "2  $12,000  Seed         ReelDeal.tv         Detroit, MI, USA  \n",
       "3  $11,364  Seed    walkyourcity.org         Raleigh, NC, USA  \n",
       "4  $12,000  Seed  savvylanguages.com       Ann Arbor, MI, USA  "
      ]
     },
     "execution_count": 44,
     "metadata": {},
     "output_type": "execute_result"
    }
   ],
   "source": [
    "df.head()"
   ]
  },
  {
   "cell_type": "code",
   "execution_count": 12,
   "metadata": {},
   "outputs": [],
   "source": [
    "with open('/home/jls/Dokumente/Lede/maps_basics/countries_africa.csv', 'r') as f:\n",
    "    reader = csv.reader(f)\n",
    "    africa = list(reader)\n",
    "    \n",
    "with open('/home/jls/Dokumente/Lede/maps_basics/countries_asia.csv', 'r') as f:\n",
    "    reader = csv.reader(f)\n",
    "    asia = list(reader)\n",
    "    \n",
    "with open('/home/jls/Dokumente/Lede/maps_basics/countries_europe.csv', 'r') as f:\n",
    "    reader = csv.reader(f)\n",
    "    europe = list(reader)\n",
    "    \n",
    "with open('/home/jls/Dokumente/Lede/maps_basics/countries_northam.csv', 'r') as f:\n",
    "    reader = csv.reader(f)\n",
    "    namerica = list(reader)\n",
    "    \n",
    "with open('/home/jls/Dokumente/Lede/maps_basics/countries_oceania.csv', 'r') as f:\n",
    "    reader = csv.reader(f)\n",
    "    oceania = list(reader)\n",
    "    \n",
    "with open('/home/jls/Dokumente/Lede/maps_basics/countries_southam.csv', 'r') as f:\n",
    "    reader = csv.reader(f)\n",
    "    samerica = list(reader)\n",
    "world = africa + asia + europe + namerica + oceania + samerica\n",
    "cont_list = ['Africa', 'Asia', 'Europe', 'North America', 'Oceania', 'South America']"
   ]
  },
  {
   "cell_type": "code",
   "execution_count": 13,
   "metadata": {},
   "outputs": [],
   "source": [
    "def get_continent(row):\n",
    "    country = str(row['country'])\n",
    "    n = 0\n",
    "    for continent in world:\n",
    "        if any(country in c for c in continent):\n",
    "            return pd.Series({'continent' : cont_list[n]})\n",
    "        n += 1"
   ]
  },
  {
   "cell_type": "code",
   "execution_count": 14,
   "metadata": {},
   "outputs": [
    {
     "ename": "ValueError",
     "evalue": "columns overlap but no suffix specified: Index(['continent'], dtype='object')",
     "output_type": "error",
     "traceback": [
      "\u001b[0;31m---------------------------------------------------------------------------\u001b[0m",
      "\u001b[0;31mValueError\u001b[0m                                Traceback (most recent call last)",
      "\u001b[0;32m<ipython-input-14-c81fd3e43482>\u001b[0m in \u001b[0;36m<module>\u001b[0;34m()\u001b[0m\n\u001b[0;32m----> 1\u001b[0;31m \u001b[0mdf\u001b[0m \u001b[0;34m=\u001b[0m \u001b[0mdf\u001b[0m\u001b[0;34m.\u001b[0m\u001b[0mapply\u001b[0m\u001b[0;34m(\u001b[0m\u001b[0mget_continent\u001b[0m\u001b[0;34m,\u001b[0m \u001b[0maxis\u001b[0m \u001b[0;34m=\u001b[0m \u001b[0;36m1\u001b[0m\u001b[0;34m)\u001b[0m\u001b[0;34m.\u001b[0m\u001b[0mjoin\u001b[0m\u001b[0;34m(\u001b[0m\u001b[0mdf\u001b[0m\u001b[0;34m)\u001b[0m\u001b[0;34m\u001b[0m\u001b[0m\n\u001b[0m\u001b[1;32m      2\u001b[0m \u001b[0mdf\u001b[0m\u001b[0;34m.\u001b[0m\u001b[0mhead\u001b[0m\u001b[0;34m(\u001b[0m\u001b[0;34m)\u001b[0m\u001b[0;34m\u001b[0m\u001b[0m\n",
      "\u001b[0;32m~/.local/lib/python3.6/site-packages/pandas/core/frame.py\u001b[0m in \u001b[0;36mjoin\u001b[0;34m(self, other, on, how, lsuffix, rsuffix, sort)\u001b[0m\n\u001b[1;32m   6334\u001b[0m         \u001b[0;31m# For SparseDataFrame's benefit\u001b[0m\u001b[0;34m\u001b[0m\u001b[0;34m\u001b[0m\u001b[0m\n\u001b[1;32m   6335\u001b[0m         return self._join_compat(other, on=on, how=how, lsuffix=lsuffix,\n\u001b[0;32m-> 6336\u001b[0;31m                                  rsuffix=rsuffix, sort=sort)\n\u001b[0m\u001b[1;32m   6337\u001b[0m \u001b[0;34m\u001b[0m\u001b[0m\n\u001b[1;32m   6338\u001b[0m     def _join_compat(self, other, on=None, how='left', lsuffix='', rsuffix='',\n",
      "\u001b[0;32m~/.local/lib/python3.6/site-packages/pandas/core/frame.py\u001b[0m in \u001b[0;36m_join_compat\u001b[0;34m(self, other, on, how, lsuffix, rsuffix, sort)\u001b[0m\n\u001b[1;32m   6349\u001b[0m             return merge(self, other, left_on=on, how=how,\n\u001b[1;32m   6350\u001b[0m                          \u001b[0mleft_index\u001b[0m\u001b[0;34m=\u001b[0m\u001b[0mon\u001b[0m \u001b[0;32mis\u001b[0m \u001b[0;32mNone\u001b[0m\u001b[0;34m,\u001b[0m \u001b[0mright_index\u001b[0m\u001b[0;34m=\u001b[0m\u001b[0;32mTrue\u001b[0m\u001b[0;34m,\u001b[0m\u001b[0;34m\u001b[0m\u001b[0m\n\u001b[0;32m-> 6351\u001b[0;31m                          suffixes=(lsuffix, rsuffix), sort=sort)\n\u001b[0m\u001b[1;32m   6352\u001b[0m         \u001b[0;32melse\u001b[0m\u001b[0;34m:\u001b[0m\u001b[0;34m\u001b[0m\u001b[0m\n\u001b[1;32m   6353\u001b[0m             \u001b[0;32mif\u001b[0m \u001b[0mon\u001b[0m \u001b[0;32mis\u001b[0m \u001b[0;32mnot\u001b[0m \u001b[0;32mNone\u001b[0m\u001b[0;34m:\u001b[0m\u001b[0;34m\u001b[0m\u001b[0m\n",
      "\u001b[0;32m~/.local/lib/python3.6/site-packages/pandas/core/reshape/merge.py\u001b[0m in \u001b[0;36mmerge\u001b[0;34m(left, right, how, on, left_on, right_on, left_index, right_index, sort, suffixes, copy, indicator, validate)\u001b[0m\n\u001b[1;32m     60\u001b[0m                          \u001b[0mcopy\u001b[0m\u001b[0;34m=\u001b[0m\u001b[0mcopy\u001b[0m\u001b[0;34m,\u001b[0m \u001b[0mindicator\u001b[0m\u001b[0;34m=\u001b[0m\u001b[0mindicator\u001b[0m\u001b[0;34m,\u001b[0m\u001b[0;34m\u001b[0m\u001b[0m\n\u001b[1;32m     61\u001b[0m                          validate=validate)\n\u001b[0;32m---> 62\u001b[0;31m     \u001b[0;32mreturn\u001b[0m \u001b[0mop\u001b[0m\u001b[0;34m.\u001b[0m\u001b[0mget_result\u001b[0m\u001b[0;34m(\u001b[0m\u001b[0;34m)\u001b[0m\u001b[0;34m\u001b[0m\u001b[0m\n\u001b[0m\u001b[1;32m     63\u001b[0m \u001b[0;34m\u001b[0m\u001b[0m\n\u001b[1;32m     64\u001b[0m \u001b[0;34m\u001b[0m\u001b[0m\n",
      "\u001b[0;32m~/.local/lib/python3.6/site-packages/pandas/core/reshape/merge.py\u001b[0m in \u001b[0;36mget_result\u001b[0;34m(self)\u001b[0m\n\u001b[1;32m    572\u001b[0m \u001b[0;34m\u001b[0m\u001b[0m\n\u001b[1;32m    573\u001b[0m         llabels, rlabels = items_overlap_with_suffix(ldata.items, lsuf,\n\u001b[0;32m--> 574\u001b[0;31m                                                      rdata.items, rsuf)\n\u001b[0m\u001b[1;32m    575\u001b[0m \u001b[0;34m\u001b[0m\u001b[0m\n\u001b[1;32m    576\u001b[0m         \u001b[0mlindexers\u001b[0m \u001b[0;34m=\u001b[0m \u001b[0;34m{\u001b[0m\u001b[0;36m1\u001b[0m\u001b[0;34m:\u001b[0m \u001b[0mleft_indexer\u001b[0m\u001b[0;34m}\u001b[0m \u001b[0;32mif\u001b[0m \u001b[0mleft_indexer\u001b[0m \u001b[0;32mis\u001b[0m \u001b[0;32mnot\u001b[0m \u001b[0;32mNone\u001b[0m \u001b[0;32melse\u001b[0m \u001b[0;34m{\u001b[0m\u001b[0;34m}\u001b[0m\u001b[0;34m\u001b[0m\u001b[0m\n",
      "\u001b[0;32m~/.local/lib/python3.6/site-packages/pandas/core/internals.py\u001b[0m in \u001b[0;36mitems_overlap_with_suffix\u001b[0;34m(left, lsuffix, right, rsuffix)\u001b[0m\n\u001b[1;32m   5242\u001b[0m         \u001b[0;32mif\u001b[0m \u001b[0;32mnot\u001b[0m \u001b[0mlsuffix\u001b[0m \u001b[0;32mand\u001b[0m \u001b[0;32mnot\u001b[0m \u001b[0mrsuffix\u001b[0m\u001b[0;34m:\u001b[0m\u001b[0;34m\u001b[0m\u001b[0m\n\u001b[1;32m   5243\u001b[0m             raise ValueError('columns overlap but no suffix specified: '\n\u001b[0;32m-> 5244\u001b[0;31m                              '{rename}'.format(rename=to_rename))\n\u001b[0m\u001b[1;32m   5245\u001b[0m \u001b[0;34m\u001b[0m\u001b[0m\n\u001b[1;32m   5246\u001b[0m         \u001b[0;32mdef\u001b[0m \u001b[0mlrenamer\u001b[0m\u001b[0;34m(\u001b[0m\u001b[0mx\u001b[0m\u001b[0;34m)\u001b[0m\u001b[0;34m:\u001b[0m\u001b[0;34m\u001b[0m\u001b[0m\n",
      "\u001b[0;31mValueError\u001b[0m: columns overlap but no suffix specified: Index(['continent'], dtype='object')"
     ]
    }
   ],
   "source": [
    "df = df.apply(get_continent, axis = 1).join(df)\n",
    "df.head()"
   ]
  },
  {
   "cell_type": "code",
   "execution_count": 98,
   "metadata": {},
   "outputs": [],
   "source": [
    "df.to_csv('all_startups_geocoded_currency.csv', index = False)"
   ]
  },
  {
   "cell_type": "markdown",
   "metadata": {},
   "source": [
    "## Stuff that's interesting:\n",
    "Top Ten funded countries\n",
    "\n",
    "Closer look: How's funding in the US distributed (time/state)\n",
    "\n",
    "Top Ten funded Industries over time\n",
    "\n",
    "Rise and Fall of startup trends: wearables / fintech / blockchain / vr & augmented reality"
   ]
  },
  {
   "cell_type": "code",
   "execution_count": 15,
   "metadata": {},
   "outputs": [
    {
     "data": {
      "text/plain": [
       "North America    8398\n",
       "Europe           1450\n",
       "Asia              988\n",
       "South America     289\n",
       "Oceania           227\n",
       "Africa             65\n",
       "Name: continent, dtype: int64"
      ]
     },
     "execution_count": 15,
     "metadata": {},
     "output_type": "execute_result"
    }
   ],
   "source": [
    "df.continent.value_counts()"
   ]
  },
  {
   "cell_type": "code",
   "execution_count": 49,
   "metadata": {},
   "outputs": [
    {
     "name": "stdout",
     "output_type": "stream",
     "text": [
      "continent\n",
      "North America    1.037423e+11\n",
      "Asia             1.976780e+10\n",
      "Europe           6.595698e+09\n",
      "Oceania          7.917219e+08\n",
      "South America    5.562895e+08\n",
      "Africa           1.919334e+08\n",
      "Name: raised_amnt, dtype: float64\n"
     ]
    },
    {
     "data": {
      "image/png": "[encoded data removed]",
      "text/plain": [
       "<Figure size 1080x360 with 1 Axes>"
      ]
     },
     "metadata": {},
     "output_type": "display_data"
    }
   ],
   "source": [
    "#df.groupby('country').sort_values(by = 'raised_amnt').raised_amnt.sum().plot(kind = 'bar')\n",
    "bar_colors = ['#0198A1', '#FDCC03']\n",
    "ax = df.groupby('continent').raised_amnt.sum().sort_values(ascending = False).head(10).plot(kind = 'barh', fontsize = 14, figsize=(15,5), color=bar_colors, legend=False)\n",
    "ax.set_title('Highest Fundings - all rounds', pad=20)\n",
    "ax.title.set_fontsize(30)\n",
    "ax.title.set_fontname(\"Noto Mono\")\n",
    "ax.spines['top'].set_visible(False)\n",
    "ax.spines['left'].set_visible(False)\n",
    "ax.spines['bottom'].set_visible(False)\n",
    "ax.spines['right'].set_visible(False)\n",
    "ax.tick_params(which='both', left=False, bottom=False)\n",
    "ax.yaxis.label.set_visible(False)\n",
    "#ax.set_xticks([0, 100000000, 200000000, 300000000])\n",
    "ax.set_xticklabels(['', '100 mio', '200 mio', 'USD 300 mio'])\n",
    "ax.grid(True, axis ='x')\n",
    "ax.set_axisbelow(True)\n",
    "#ax.set_xlim(0,300500000)\n",
    "plt.savefig('bars-countries.pdf')\n",
    "plt.savefig('bars-countries.png')\n",
    "\n",
    "print(df.groupby('continent').raised_amnt.sum().sort_values(ascending = False).head(10))"
   ]
  },
  {
   "cell_type": "code",
   "execution_count": 50,
   "metadata": {},
   "outputs": [
    {
     "name": "stdout",
     "output_type": "stream",
     "text": [
      "name\n",
      "Flipkart           1.482214e+10\n",
      "Uber               1.225245e+10\n",
      "StemCentRx         1.047350e+10\n",
      "Snapchat           3.819085e+09\n",
      "Lyft               2.612500e+09\n",
      "Fast Track Asia    2.147484e+09\n",
      "Sprinklr           2.028500e+09\n",
      "SoFi               1.712200e+09\n",
      "Ten-X              1.600000e+09\n",
      "Spotify            1.421640e+09\n",
      "Name: raised_amnt, dtype: float64\n"
     ]
    },
    {
     "data": {
      "image/png": "[encoded data removed]",
      "text/plain": [
       "<Figure size 1080x360 with 1 Axes>"
      ]
     },
     "metadata": {},
     "output_type": "display_data"
    }
   ],
   "source": [
    "print(df.groupby('name').raised_amnt.sum().sort_values(ascending = False).head(10))\n",
    "bar_colors = ['#0198A1', '#FDCC03']\n",
    "ax = df.groupby('name').raised_amnt.sum().sort_values(ascending = False).head(10).plot(kind = 'barh', fontsize = 14, figsize=(15,5), color=bar_colors, legend=False)\n",
    "ax.set_title('Highest Fundings - all rounds', pad=20)\n",
    "ax.title.set_fontsize(30)\n",
    "ax.title.set_fontname(\"Noto Mono\")\n",
    "ax.spines['top'].set_visible(False)\n",
    "ax.spines['left'].set_visible(False)\n",
    "ax.spines['bottom'].set_visible(False)\n",
    "ax.spines['right'].set_visible(False)\n",
    "ax.tick_params(which='both', left=False, bottom=False)\n",
    "ax.yaxis.label.set_visible(False)\n",
    "#ax.set_xticks([0, 10000000000, 20000000000, 30000000000])\n",
    "ax.set_xticklabels(['', '100 mio', '200 mio','','','','', 'USD 15 billion'])\n",
    "ax.grid(True, axis ='x')\n",
    "ax.set_axisbelow(True)\n",
    "ax.set_xlim(0,15500000000)\n",
    "plt.savefig('bars-companies.pdf')\n",
    "plt.savefig('bars-companies.png')"
   ]
  },
  {
   "cell_type": "code",
   "execution_count": null,
   "metadata": {},
   "outputs": [],
   "source": [
    "label = []\n",
    "for state in df.state:\n",
    "    if df[df['state'] == state].raisedAmt.sum() > 266300000:\n",
    "        label.append(state)\n",
    "label = list(set(label))\n",
    "single_states = label\n",
    "label.append('other')\n",
    "\n",
    "sum_ = []\n",
    "for state in label:\n",
    "    if state != 'other':\n",
    "        sum_.append(df[df['state'] == state].raisedAmt.sum())\n",
    "    else:\n",
    "        sum_.append(df[~df.state.isin(single_states)].raisedAmt.sum())"
   ]
  },
  {
   "cell_type": "code",
   "execution_count": 51,
   "metadata": {
    "scrolled": true
   },
   "outputs": [
    {
     "data": {
      "image/png": "[encoded data removed]",
      "text/plain": [
       "<Figure size 432x288 with 1 Axes>"
      ]
     },
     "metadata": {},
     "output_type": "display_data"
    }
   ],
   "source": [
    "colors = ['grey', 'grey', 'grey', '#FDCC03', 'grey', 'grey']\n",
    "\n",
    "# Create a pie chart\n",
    "plt.pie(\n",
    "    df.groupby('continent').raised_amnt.sum(),\n",
    "    labels=cont_list,\n",
    "    shadow=False,\n",
    "    colors=colors,\n",
    "    explode=(0.5, 0.4, 0.4, 0.6, 0.7, 0.8),\n",
    "    startangle=-20,\n",
    "    radius = 1.2,\n",
    "    wedgeprops = {'linewidth': 0},\n",
    "    textprops = {'fontsize':12, 'fontname':'Noto Mono'}\n",
    "    )\n",
    "#plt.pie?\n",
    "plt.axis('equal')\n",
    "#plt.tight_layout()\n",
    "plt.savefig('pie.pdf')\n",
    "plt.savefig('pie.png')\n",
    "plt.show()"
   ]
  },
  {
   "cell_type": "code",
   "execution_count": 27,
   "metadata": {},
   "outputs": [
    {
     "data": {
      "text/plain": [
       "state\n",
       "CA    6.913026e+10\n",
       "NY    1.037254e+10\n",
       "MA    7.214117e+09\n",
       "TX    2.401327e+09\n",
       "WA    1.325218e+09\n",
       "IL    1.274537e+09\n",
       "CO    1.037060e+09\n",
       "KS    9.943758e+08\n",
       "DC    8.319620e+08\n",
       "AZ    7.985748e+08\n",
       "Name: raised_amnt, dtype: float64"
      ]
     },
     "execution_count": 27,
     "metadata": {},
     "output_type": "execute_result"
    }
   ],
   "source": [
    "df_us = df[~df.state.isna()]\n",
    "df_us.groupby('state').raised_amnt.sum().sort_values(ascending = False).head(10)"
   ]
  },
  {
   "cell_type": "code",
   "execution_count": 28,
   "metadata": {},
   "outputs": [],
   "source": [
    "import squarify"
   ]
  },
  {
   "cell_type": "code",
   "execution_count": 52,
   "metadata": {},
   "outputs": [
    {
     "data": {
      "image/png": "[encoded data removed]",
      "text/plain": [
       "<Figure size 432x288 with 1 Axes>"
      ]
     },
     "metadata": {},
     "output_type": "display_data"
    }
   ],
   "source": [
    "color=[\"red\",\"green\",\"blue\", 'yellow', \"grey\", \"darkgrey\", \"grey\", \"darkgrey\", \"grey\", \"darkgrey\", \"grey\", \"darkgrey\", \"grey\", \"darkgrey\", \"grey\", \"darkgrey\", \"grey\", \"darkgrey\", \"grey\", \"darkgrey\", \"grey\", \"darkgrey\", \"grey\", \"darkgrey\", \"grey\", \"darkgrey\", \"grey\", \"darkgrey\", \"grey\", \"darkgrey\", \"grey\", \"darkgrey\", \"grey\", \"darkgrey\", \"grey\", \"darkgrey\", \"grey\", \"darkgrey\", \"grey\", \"darkgrey\"]\n",
    "squarify.plot(df_us.groupby('state').raised_amnt.sum().sort_values(ascending = False), color = color, label = ['California', 'New York', 'Maryland', 'Texas', '', 'A', 'bunch', 'of', 'other', 'states'], alpha=.4 )\n",
    "plt.axis('off')\n",
    "plt.savefig('square.pdf')\n",
    "plt.savefig('square.png')\n",
    "plt.show()"
   ]
  },
  {
   "cell_type": "code",
   "execution_count": 30,
   "metadata": {},
   "outputs": [
    {
     "data": {
      "text/plain": [
       "market\n",
       "Technology              1.508795e+10\n",
       "Video Streaming         4.665709e+09\n",
       "College Campuses        2.613861e+09\n",
       "Blogging Platforms      2.236212e+09\n",
       "Consumer Electronics    2.142036e+09\n",
       "Web Development         2.060600e+09\n",
       "Enterprise Security     2.037692e+09\n",
       "Consumer Lending        1.996900e+09\n",
       "-                       1.824485e+09\n",
       "Developer Tools         1.670211e+09\n",
       "Name: raised_amnt, dtype: float64"
      ]
     },
     "execution_count": 30,
     "metadata": {},
     "output_type": "execute_result"
    }
   ],
   "source": [
    "df_us.groupby('market').raised_amnt.sum().sort_values(ascending = False).head(10)"
   ]
  },
  {
   "cell_type": "code",
   "execution_count": 31,
   "metadata": {
    "scrolled": true
   },
   "outputs": [
    {
     "data": {
      "text/html": [
       "<div>\n",
       "<style scoped>\n",
       "    .dataframe tbody tr th:only-of-type {\n",
       "        vertical-align: middle;\n",
       "    }\n",
       "\n",
       "    .dataframe tbody tr th {\n",
       "        vertical-align: top;\n",
       "    }\n",
       "\n",
       "    .dataframe thead th {\n",
       "        text-align: right;\n",
       "    }\n",
       "</style>\n",
       "<table border=\"1\" class=\"dataframe\">\n",
       "  <thead>\n",
       "    <tr style=\"text-align: right;\">\n",
       "      <th></th>\n",
       "      <th>joined</th>\n",
       "      <th>raised_amnt</th>\n",
       "    </tr>\n",
       "  </thead>\n",
       "  <tbody>\n",
       "    <tr>\n",
       "      <th>0</th>\n",
       "      <td>2009-11-01</td>\n",
       "      <td>1.952500e+07</td>\n",
       "    </tr>\n",
       "    <tr>\n",
       "      <th>1</th>\n",
       "      <td>2010-04-01</td>\n",
       "      <td>2.797250e+08</td>\n",
       "    </tr>\n",
       "    <tr>\n",
       "      <th>2</th>\n",
       "      <td>2010-05-01</td>\n",
       "      <td>1.415000e+07</td>\n",
       "    </tr>\n",
       "    <tr>\n",
       "      <th>3</th>\n",
       "      <td>2010-06-01</td>\n",
       "      <td>1.225945e+10</td>\n",
       "    </tr>\n",
       "    <tr>\n",
       "      <th>4</th>\n",
       "      <td>2010-07-01</td>\n",
       "      <td>2.280120e+08</td>\n",
       "    </tr>\n",
       "  </tbody>\n",
       "</table>\n",
       "</div>"
      ],
      "text/plain": [
       "       joined   raised_amnt\n",
       "0  2009-11-01  1.952500e+07\n",
       "1  2010-04-01  2.797250e+08\n",
       "2  2010-05-01  1.415000e+07\n",
       "3  2010-06-01  1.225945e+10\n",
       "4  2010-07-01  2.280120e+08"
      ]
     },
     "execution_count": 31,
     "metadata": {},
     "output_type": "execute_result"
    }
   ],
   "source": [
    "df_timeline = df.groupby('joined').raised_amnt.sum().reset_index()\n",
    "df_timeline.head()"
   ]
  },
  {
   "cell_type": "code",
   "execution_count": 53,
   "metadata": {},
   "outputs": [
    {
     "data": {
      "image/png": "[encoded data removed]",
      "text/plain": [
       "<Figure size 1080x360 with 1 Axes>"
      ]
     },
     "metadata": {},
     "output_type": "display_data"
    }
   ],
   "source": [
    "df_timeline['joined'] = pd.to_datetime(df_timeline['joined'])\n",
    "bar_colors = ['#0198A1', '#FDCC03']\n",
    "ax = df_timeline.resample('Y', on = 'joined').raised_amnt.sum().plot(kind = 'bar', fontsize = 14, figsize=(15,5), color=bar_colors, legend=False)\n",
    "ax.set_title('Investments per year', pad=20)\n",
    "ax.title.set_fontsize(30)\n",
    "ax.title.set_fontname(\"Noto Mono\")\n",
    "ax.spines['top'].set_visible(False)\n",
    "ax.spines['left'].set_visible(False)\n",
    "ax.spines['bottom'].set_visible(False)\n",
    "ax.spines['right'].set_visible(False)\n",
    "ax.tick_params(which='both', left=False, bottom=False)\n",
    "ax.yaxis.label.set_visible(False)\n",
    "ax.xaxis.label.set_visible(False)\n",
    "#ax.set_xticks([0, 10000000000, 20000000000, 30000000000])\n",
    "#ax.set_xticklabels(['', '100 mio', '200 mio','','','','', 'USD 15 billion'])\n",
    "ax.grid(True, axis ='y')\n",
    "ax.set_axisbelow(True)\n",
    "#ax.set_xlim(0,15500000000)\n",
    "plt.savefig('sum-time.pdf')\n",
    "plt.savefig('sum-time.png')"
   ]
  },
  {
   "cell_type": "code",
   "execution_count": 224,
   "metadata": {
    "scrolled": false
   },
   "outputs": [
    {
     "data": {
      "text/html": [
       "<div>\n",
       "<style scoped>\n",
       "    .dataframe tbody tr th:only-of-type {\n",
       "        vertical-align: middle;\n",
       "    }\n",
       "\n",
       "    .dataframe tbody tr th {\n",
       "        vertical-align: top;\n",
       "    }\n",
       "\n",
       "    .dataframe thead th {\n",
       "        text-align: right;\n",
       "    }\n",
       "</style>\n",
       "<table border=\"1\" class=\"dataframe\">\n",
       "  <thead>\n",
       "    <tr style=\"text-align: right;\">\n",
       "      <th></th>\n",
       "      <th>continent</th>\n",
       "      <th>country</th>\n",
       "      <th>state</th>\n",
       "      <th>raised_amnt</th>\n",
       "      <th>raised_amnt_orignal</th>\n",
       "      <th>raised_curr</th>\n",
       "      <th>Unnamed: 0</th>\n",
       "      <th>company_size</th>\n",
       "      <th>joined</th>\n",
       "      <th>location</th>\n",
       "      <th>market</th>\n",
       "      <th>name</th>\n",
       "      <th>pitch</th>\n",
       "      <th>raised</th>\n",
       "      <th>stage</th>\n",
       "      <th>website</th>\n",
       "      <th>location_long</th>\n",
       "    </tr>\n",
       "  </thead>\n",
       "  <tbody>\n",
       "    <tr>\n",
       "      <th>73</th>\n",
       "      <td>North America</td>\n",
       "      <td>USA</td>\n",
       "      <td>PA</td>\n",
       "      <td>15000.0</td>\n",
       "      <td>NaN</td>\n",
       "      <td>$</td>\n",
       "      <td>73</td>\n",
       "      <td>1-10</td>\n",
       "      <td>2017-01-01</td>\n",
       "      <td>Philadelphia</td>\n",
       "      <td>Internet of Things</td>\n",
       "      <td>GuestOf</td>\n",
       "      <td>Access &amp; Identity as a service - for the physi...</td>\n",
       "      <td>$15,000</td>\n",
       "      <td>Closed</td>\n",
       "      <td>guestofapp.com</td>\n",
       "      <td>Philadelphia, PA, USA</td>\n",
       "    </tr>\n",
       "    <tr>\n",
       "      <th>93</th>\n",
       "      <td>North America</td>\n",
       "      <td>USA</td>\n",
       "      <td>PA</td>\n",
       "      <td>15000.0</td>\n",
       "      <td>NaN</td>\n",
       "      <td>$</td>\n",
       "      <td>93</td>\n",
       "      <td>1-10</td>\n",
       "      <td>2017-01-01</td>\n",
       "      <td>Philadelphia</td>\n",
       "      <td>Internet of Things</td>\n",
       "      <td>GuestOf</td>\n",
       "      <td>Access &amp; Identity as a service - for the physi...</td>\n",
       "      <td>$15,000</td>\n",
       "      <td>Closed</td>\n",
       "      <td>guestofapp.com</td>\n",
       "      <td>Philadelphia, PA, USA</td>\n",
       "    </tr>\n",
       "    <tr>\n",
       "      <th>481</th>\n",
       "      <td>None</td>\n",
       "      <td>UK</td>\n",
       "      <td>NaN</td>\n",
       "      <td>33000.0</td>\n",
       "      <td>NaN</td>\n",
       "      <td>$</td>\n",
       "      <td>481</td>\n",
       "      <td>1-10</td>\n",
       "      <td>2015-01-01</td>\n",
       "      <td>Newcastle upon Tyne</td>\n",
       "      <td>Internet of Things</td>\n",
       "      <td>RESTACK</td>\n",
       "      <td>The universal interface for connected devices.</td>\n",
       "      <td>$33,000</td>\n",
       "      <td>Seed</td>\n",
       "      <td>restack.io</td>\n",
       "      <td>Newcastle upon Tyne, UK</td>\n",
       "    </tr>\n",
       "    <tr>\n",
       "      <th>753</th>\n",
       "      <td>North America</td>\n",
       "      <td>USA</td>\n",
       "      <td>CO</td>\n",
       "      <td>40000.0</td>\n",
       "      <td>NaN</td>\n",
       "      <td>$</td>\n",
       "      <td>753</td>\n",
       "      <td>1-10</td>\n",
       "      <td>2014-02-01</td>\n",
       "      <td>Denver</td>\n",
       "      <td>Internet of Things</td>\n",
       "      <td>Building Brains</td>\n",
       "      <td>Building Brains for your Buildings</td>\n",
       "      <td>$40,000</td>\n",
       "      <td>Closed</td>\n",
       "      <td>BuildingBrains.co</td>\n",
       "      <td>Denver, CO, USA</td>\n",
       "    </tr>\n",
       "    <tr>\n",
       "      <th>931</th>\n",
       "      <td>North America</td>\n",
       "      <td>USA</td>\n",
       "      <td>CA</td>\n",
       "      <td>50000.0</td>\n",
       "      <td>NaN</td>\n",
       "      <td>$</td>\n",
       "      <td>931</td>\n",
       "      <td>1-10</td>\n",
       "      <td>2016-03-01</td>\n",
       "      <td>San Mateo</td>\n",
       "      <td>Internet of Things</td>\n",
       "      <td>ZoomThru</td>\n",
       "      <td>Connecting the parking industry through networ...</td>\n",
       "      <td>$50,000</td>\n",
       "      <td>Seed</td>\n",
       "      <td>zoomthru.co</td>\n",
       "      <td>San Mateo, CA, USA</td>\n",
       "    </tr>\n",
       "  </tbody>\n",
       "</table>\n",
       "</div>"
      ],
      "text/plain": [
       "         continent country state  raised_amnt  raised_amnt_orignal  \\\n",
       "73   North America     USA    PA      15000.0                  NaN   \n",
       "93   North America     USA    PA      15000.0                  NaN   \n",
       "481           None      UK   NaN      33000.0                  NaN   \n",
       "753  North America     USA    CO      40000.0                  NaN   \n",
       "931  North America     USA    CA      50000.0                  NaN   \n",
       "\n",
       "    raised_curr  Unnamed: 0 company_size      joined             location  \\\n",
       "73            $          73         1-10  2017-01-01         Philadelphia   \n",
       "93            $          93         1-10  2017-01-01         Philadelphia   \n",
       "481           $         481         1-10  2015-01-01  Newcastle upon Tyne   \n",
       "753           $         753         1-10  2014-02-01               Denver   \n",
       "931           $         931         1-10  2016-03-01            San Mateo   \n",
       "\n",
       "                 market             name  \\\n",
       "73   Internet of Things          GuestOf   \n",
       "93   Internet of Things          GuestOf   \n",
       "481  Internet of Things          RESTACK   \n",
       "753  Internet of Things  Building Brains   \n",
       "931  Internet of Things         ZoomThru   \n",
       "\n",
       "                                                 pitch   raised   stage  \\\n",
       "73   Access & Identity as a service - for the physi...  $15,000  Closed   \n",
       "93   Access & Identity as a service - for the physi...  $15,000  Closed   \n",
       "481     The universal interface for connected devices.  $33,000    Seed   \n",
       "753                 Building Brains for your Buildings  $40,000  Closed   \n",
       "931  Connecting the parking industry through networ...  $50,000    Seed   \n",
       "\n",
       "               website            location_long  \n",
       "73      guestofapp.com    Philadelphia, PA, USA  \n",
       "93      guestofapp.com    Philadelphia, PA, USA  \n",
       "481         restack.io  Newcastle upon Tyne, UK  \n",
       "753  BuildingBrains.co          Denver, CO, USA  \n",
       "931        zoomthru.co       San Mateo, CA, USA  "
      ]
     },
     "execution_count": 224,
     "metadata": {},
     "output_type": "execute_result"
    }
   ],
   "source": [
    "buzzword = 'Internet of Things'\n",
    "\n",
    "df_temp = df[df['pitch'].str.contains(buzzword, na=False, regex=True) | df['market'].str.contains(buzzword, na=False, regex=True)]\n",
    "df_temp.head()"
   ]
  },
  {
   "cell_type": "code",
   "execution_count": 227,
   "metadata": {},
   "outputs": [
    {
     "data": {
      "text/plain": [
       "Text(0,0.5,'Life expectancy at birth')"
      ]
     },
     "execution_count": 227,
     "metadata": {},
     "output_type": "execute_result"
    },
    {
     "data": {
      "image/png": "[encoded data removed]",
      "text/plain": [
       "<Figure size 432x288 with 1 Axes>"
      ]
     },
     "metadata": {},
     "output_type": "display_data"
    }
   ],
   "source": [
    "# Initialize a new figure\n",
    "fig, ax = plt.subplots()\n",
    "\n",
    "# Draw the graph\n",
    "ax.plot(df_temp['joined'], df_temp['raised_amnt'], linestyle='', marker='o')\n",
    "\n",
    "# Set the label for the x-axis\n",
    "ax.set_xlabel(\"GDP (per capita)\")\n",
    "\n",
    "# Set the label for the y-axis\n",
    "ax.set_ylabel(\"Life expectancy at birth\")"
   ]
  },
  {
   "cell_type": "code",
   "execution_count": null,
   "metadata": {},
   "outputs": [],
   "source": [
    "df.resample('A', on = 'created_at').count().created_at.plot()"
   ]
  }
 ],
 "metadata": {
  "kernelspec": {
   "display_name": "Python 3",
   "language": "python",
   "name": "python3"
  },
  "language_info": {
   "codemirror_mode": {
    "name": "ipython",
    "version": 3
   },
   "file_extension": ".py",
   "mimetype": "text/x-python",
   "name": "python",
   "nbconvert_exporter": "python",
   "pygments_lexer": "ipython3",
   "version": "3.6.5"
  }
 },
 "nbformat": 4,
 "nbformat_minor": 2
}
