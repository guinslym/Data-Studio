{
 "cells": [
  {
   "cell_type": "code",
   "execution_count": 4,
   "metadata": {},
   "outputs": [],
   "source": [
    "api_key = '492440e583b69aeffad9c72d7169c948'\n",
    "import requests\n",
    "import pandas as pd"
   ]
  },
  {
   "cell_type": "code",
   "execution_count": 8,
   "metadata": {},
   "outputs": [
    {
     "name": "stdout",
     "output_type": "stream",
     "text": [
      "<Response [200]>\n"
     ]
    }
   ],
   "source": [
    "#establish connection, check response\n",
    "url = \"https://api.crunchbase.com/v3.1/odm-organizations?user_key=\"+api_key\n",
    "response = requests.request(\"GET\", url)\n",
    "print(response)"
   ]
  },
  {
   "cell_type": "code",
   "execution_count": 10,
   "metadata": {},
   "outputs": [],
   "source": [
    "#query for Palo Alto maybe?\n",
    "query = {\"locations\":\"Palo Alto\"}\n",
    "response = requests.request(\"GET\", url, params=query)\n",
    "place_data = response.json()"
   ]
  },
  {
   "cell_type": "code",
   "execution_count": 26,
   "metadata": {},
   "outputs": [
    {
     "data": {
      "text/plain": [
       "dict_keys(['permalink', 'api_path', 'web_path', 'api_url', 'name', 'stock_exchange', 'stock_symbol', 'primary_role', 'short_description', 'profile_image_url', 'domain', 'homepage_url', 'facebook_url', 'twitter_url', 'linkedin_url', 'city_name', 'region_name', 'country_code', 'created_at', 'updated_at'])"
      ]
     },
     "execution_count": 26,
     "metadata": {},
     "output_type": "execute_result"
    }
   ],
   "source": [
    "place_data['data']['items'][0]['properties'].keys()"
   ]
  },
  {
   "cell_type": "code",
   "execution_count": 31,
   "metadata": {},
   "outputs": [],
   "source": [
    "url_list = []\n",
    "for company in place_data['data']['items'][0:10]:\n",
    "    url_list.append(company['properties']['api_url'])"
   ]
  },
  {
   "cell_type": "code",
   "execution_count": 34,
   "metadata": {},
   "outputs": [
    {
     "name": "stdout",
     "output_type": "stream",
     "text": [
      "[{'status': 401, 'code': 'LA401', 'message': 'Unauthorized user_key'}]\n"
     ]
    }
   ],
   "source": [
    "response = requests.get(url_list[3]+api_key)\n",
    "print(response.json())"
   ]
  },
  {
   "cell_type": "code",
   "execution_count": null,
   "metadata": {},
   "outputs": [],
   "source": []
  }
 ],
 "metadata": {
  "kernelspec": {
   "display_name": "Python 3",
   "language": "python",
   "name": "python3"
  },
  "language_info": {
   "codemirror_mode": {
    "name": "ipython",
    "version": 3
   },
   "file_extension": ".py",
   "mimetype": "text/x-python",
   "name": "python",
   "nbconvert_exporter": "python",
   "pygments_lexer": "ipython3",
   "version": "3.6.5"
  }
 },
 "nbformat": 4,
 "nbformat_minor": 2
}
