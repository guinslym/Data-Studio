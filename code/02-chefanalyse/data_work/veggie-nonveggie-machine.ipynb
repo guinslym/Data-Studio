{
 "cells": [
  {
   "cell_type": "code",
   "execution_count": 2,
   "metadata": {},
   "outputs": [
    {
     "name": "stdout",
     "output_type": "stream",
     "text": [
      "Collecting wikipedia\n",
      "  Downloading https://files.pythonhosted.org/packages/67/35/25e68fbc99e672127cc6fbb14b8ec1ba3dfef035bf1e4c90f78f24a80b7d/wikipedia-1.4.0.tar.gz\n",
      "Collecting beautifulsoup4 (from wikipedia)\n",
      "  Using cached https://files.pythonhosted.org/packages/9e/d4/10f46e5cfac773e22707237bfcd51bbffeaf0a576b0a847ec7ab15bd7ace/beautifulsoup4-4.6.0-py3-none-any.whl\n",
      "Collecting requests<3.0.0,>=2.0.0 (from wikipedia)\n",
      "  Using cached https://files.pythonhosted.org/packages/65/47/7e02164a2a3db50ed6d8a6ab1d6d60b69c4c3fdf57a284257925dfc12bda/requests-2.19.1-py2.py3-none-any.whl\n",
      "Collecting urllib3<1.24,>=1.21.1 (from requests<3.0.0,>=2.0.0->wikipedia)\n",
      "  Using cached https://files.pythonhosted.org/packages/bd/c9/6fdd990019071a4a32a5e7cb78a1d92c53851ef4f56f62a3486e6a7d8ffb/urllib3-1.23-py2.py3-none-any.whl\n",
      "Collecting chardet<3.1.0,>=3.0.2 (from requests<3.0.0,>=2.0.0->wikipedia)\n",
      "  Using cached https://files.pythonhosted.org/packages/bc/a9/01ffebfb562e4274b6487b4bb1ddec7ca55ec7510b22e4c51f14098443b8/chardet-3.0.4-py2.py3-none-any.whl\n",
      "Collecting idna<2.8,>=2.5 (from requests<3.0.0,>=2.0.0->wikipedia)\n",
      "  Using cached https://files.pythonhosted.org/packages/4b/2a/0276479a4b3caeb8a8c1af2f8e4355746a97fab05a372e4a2c6a6b876165/idna-2.7-py2.py3-none-any.whl\n",
      "Collecting certifi>=2017.4.17 (from requests<3.0.0,>=2.0.0->wikipedia)\n",
      "  Using cached https://files.pythonhosted.org/packages/7c/e6/92ad559b7192d846975fc916b65f667c7b8c3a32bea7372340bfe9a15fa5/certifi-2018.4.16-py2.py3-none-any.whl\n",
      "Building wheels for collected packages: wikipedia\n",
      "  Running setup.py bdist_wheel for wikipedia ... \u001b[?25ldone\n",
      "\u001b[?25h  Stored in directory: /home/jls/.cache/pip/wheels/87/2a/18/4e471fd96d12114d16fe4a446d00c3b38fb9efcb744bd31f4a\n",
      "Successfully built wikipedia\n",
      "Installing collected packages: beautifulsoup4, urllib3, chardet, idna, certifi, requests, wikipedia\n",
      "Successfully installed beautifulsoup4-4.6.0 certifi-2018.4.16 chardet-3.0.4 idna-2.7 requests-2.19.1 urllib3-1.23 wikipedia-1.4.0\n"
     ]
    }
   ],
   "source": [
    "!pip3 install wikipedia"
   ]
  },
  {
   "cell_type": "code",
   "execution_count": 19,
   "metadata": {},
   "outputs": [],
   "source": [
    "import wikipedia\n",
    "wikipedia.set_lang(\"de\")"
   ]
  },
  {
   "cell_type": "code",
   "execution_count": 27,
   "metadata": {},
   "outputs": [
    {
     "data": {
      "text/plain": [
       "['New York City',\n",
       " 'New York',\n",
       " 'New York, New York',\n",
       " 'New York (Bundesstaat)',\n",
       " 'New York Red Bulls',\n",
       " 'Gangs of New York',\n",
       " 'The New York Times',\n",
       " 'New York City Subway',\n",
       " 'New York New York',\n",
       " 'New York-New York Hotel & Casino']"
      ]
     },
     "execution_count": 27,
     "metadata": {},
     "output_type": "execute_result"
    }
   ],
   "source": [
    "wikipedia.search('New York')"
   ]
  },
  {
   "cell_type": "code",
   "execution_count": 28,
   "metadata": {},
   "outputs": [],
   "source": [
    "ny = wikipedia.page('New York')"
   ]
  },
  {
   "cell_type": "code",
   "execution_count": 29,
   "metadata": {},
   "outputs": [
    {
     "data": {
      "text/plain": [
       "['Kategorie:Ehemalige Hauptstadt (Vereinigte Staaten)',\n",
       " 'Kategorie:Hochschul- oder Universitätsstadt in den Vereinigten Staaten',\n",
       " 'Kategorie:Jakob II. (England) als Namensgeber',\n",
       " 'Kategorie:Millionenstadt',\n",
       " 'Kategorie:New York City',\n",
       " 'Kategorie:Ort am Hudson River',\n",
       " 'Kategorie:Ort in New York',\n",
       " 'Kategorie:Ort in Nordamerika',\n",
       " 'Kategorie:Ort mit Seehafen',\n",
       " 'Kategorie:Wikipedia:Defekte Weblinks/Ungeprüfte Archivlinks 2018-03',\n",
       " 'Kategorie:Wikipedia:Defekte Weblinks/Ungeprüfte Archivlinks 2018-06',\n",
       " 'Kategorie:Wikipedia:Lesenswert']"
      ]
     },
     "execution_count": 29,
     "metadata": {},
     "output_type": "execute_result"
    }
   ],
   "source": [
    "ny.categories"
   ]
  },
  {
   "cell_type": "code",
   "execution_count": 30,
   "metadata": {},
   "outputs": [],
   "source": [
    "import pandas as pd"
   ]
  },
  {
   "cell_type": "code",
   "execution_count": 31,
   "metadata": {},
   "outputs": [],
   "source": [
    "df = pd.read_csv('chefkoch_cleaned.csv')"
   ]
  },
  {
   "cell_type": "code",
   "execution_count": 32,
   "metadata": {},
   "outputs": [
    {
     "data": {
      "text/html": [
       "<div>\n",
       "<style scoped>\n",
       "    .dataframe tbody tr th:only-of-type {\n",
       "        vertical-align: middle;\n",
       "    }\n",
       "\n",
       "    .dataframe tbody tr th {\n",
       "        vertical-align: top;\n",
       "    }\n",
       "\n",
       "    .dataframe thead th {\n",
       "        text-align: right;\n",
       "    }\n",
       "</style>\n",
       "<table border=\"1\" class=\"dataframe\">\n",
       "  <thead>\n",
       "    <tr style=\"text-align: right;\">\n",
       "      <th></th>\n",
       "      <th>Zutaten</th>\n",
       "      <th>Bewertung</th>\n",
       "      <th>Gericht</th>\n",
       "      <th>Bewertungen_Counter</th>\n",
       "      <th>URL</th>\n",
       "      <th>zutaten_clean</th>\n",
       "      <th>zutaten_anzahl</th>\n",
       "    </tr>\n",
       "  </thead>\n",
       "  <tbody>\n",
       "    <tr>\n",
       "      <th>0</th>\n",
       "      <td>[{'Weizenmehl, 550': '500 g'}, {'Mehl, (Roggen...</td>\n",
       "      <td>4.65</td>\n",
       "      <td>Pain fendu von Ketex</td>\n",
       "      <td>60.0</td>\n",
       "      <td>https://www.chefkoch.de/rezepte/12505212301277...</td>\n",
       "      <td>['Weizenmehl', 'Wasser', 'Sauerteig', 'Mehl', ...</td>\n",
       "      <td>6</td>\n",
       "    </tr>\n",
       "    <tr>\n",
       "      <th>1</th>\n",
       "      <td>[{'Rumpsteak(s), à 180 g': '1'}, {'Zwiebel(n)'...</td>\n",
       "      <td>3.80</td>\n",
       "      <td>Rumpsteak mit Bratkartoffeln</td>\n",
       "      <td>3.0</td>\n",
       "      <td>https://www.chefkoch.de/rezepte/17511412845418...</td>\n",
       "      <td>['Pfeffer', 'Kartoffel', 'Rumpsteak', 'Öl', 'K...</td>\n",
       "      <td>8</td>\n",
       "    </tr>\n",
       "    <tr>\n",
       "      <th>2</th>\n",
       "      <td>[{'Schweinelende(n)': '600 g'}, {'Öl': '2 EL'}...</td>\n",
       "      <td>3.33</td>\n",
       "      <td>Schweinelende 'Granatapfel'</td>\n",
       "      <td>1.0</td>\n",
       "      <td>https://www.chefkoch.de/rezepte/11054612166426...</td>\n",
       "      <td>['Schweinelende', 'Öl', 'Orangensaft', 'Saft',...</td>\n",
       "      <td>6</td>\n",
       "    </tr>\n",
       "    <tr>\n",
       "      <th>3</th>\n",
       "      <td>[{'Brokkoli, frisch (ersatzweise TK)': '1 kg'}...</td>\n",
       "      <td>3.00</td>\n",
       "      <td>Brokkolisuppe</td>\n",
       "      <td>1.0</td>\n",
       "      <td>https://www.chefkoch.de/rezepte/14996912555228...</td>\n",
       "      <td>['Pfeffer', 'Gemüsebrühe', 'Kartoffel', 'Brokk...</td>\n",
       "      <td>7</td>\n",
       "    </tr>\n",
       "    <tr>\n",
       "      <th>4</th>\n",
       "      <td>[{'Rucola': '100 g'}, {'Löwenzahn, gelber und ...</td>\n",
       "      <td>3.00</td>\n",
       "      <td>Blumensalat</td>\n",
       "      <td>1.0</td>\n",
       "      <td>https://www.chefkoch.de/rezepte/98573120395040...</td>\n",
       "      <td>['Eichblattsalat', 'Rucola', 'Blüten', 'Salat'...</td>\n",
       "      <td>10</td>\n",
       "    </tr>\n",
       "  </tbody>\n",
       "</table>\n",
       "</div>"
      ],
      "text/plain": [
       "                                             Zutaten  Bewertung  \\\n",
       "0  [{'Weizenmehl, 550': '500 g'}, {'Mehl, (Roggen...       4.65   \n",
       "1  [{'Rumpsteak(s), à 180 g': '1'}, {'Zwiebel(n)'...       3.80   \n",
       "2  [{'Schweinelende(n)': '600 g'}, {'Öl': '2 EL'}...       3.33   \n",
       "3  [{'Brokkoli, frisch (ersatzweise TK)': '1 kg'}...       3.00   \n",
       "4  [{'Rucola': '100 g'}, {'Löwenzahn, gelber und ...       3.00   \n",
       "\n",
       "                        Gericht  Bewertungen_Counter  \\\n",
       "0          Pain fendu von Ketex                 60.0   \n",
       "1  Rumpsteak mit Bratkartoffeln                  3.0   \n",
       "2   Schweinelende 'Granatapfel'                  1.0   \n",
       "3                 Brokkolisuppe                  1.0   \n",
       "4                   Blumensalat                  1.0   \n",
       "\n",
       "                                                 URL  \\\n",
       "0  https://www.chefkoch.de/rezepte/12505212301277...   \n",
       "1  https://www.chefkoch.de/rezepte/17511412845418...   \n",
       "2  https://www.chefkoch.de/rezepte/11054612166426...   \n",
       "3  https://www.chefkoch.de/rezepte/14996912555228...   \n",
       "4  https://www.chefkoch.de/rezepte/98573120395040...   \n",
       "\n",
       "                                       zutaten_clean  zutaten_anzahl  \n",
       "0  ['Weizenmehl', 'Wasser', 'Sauerteig', 'Mehl', ...               6  \n",
       "1  ['Pfeffer', 'Kartoffel', 'Rumpsteak', 'Öl', 'K...               8  \n",
       "2  ['Schweinelende', 'Öl', 'Orangensaft', 'Saft',...               6  \n",
       "3  ['Pfeffer', 'Gemüsebrühe', 'Kartoffel', 'Brokk...               7  \n",
       "4  ['Eichblattsalat', 'Rucola', 'Blüten', 'Salat'...              10  "
      ]
     },
     "execution_count": 32,
     "metadata": {},
     "output_type": "execute_result"
    }
   ],
   "source": [
    "df.head()"
   ]
  },
  {
   "cell_type": "code",
   "execution_count": 49,
   "metadata": {},
   "outputs": [
    {
     "ename": "SyntaxError",
     "evalue": "invalid syntax (<ipython-input-49-8007ce0c9dd8>, line 7)",
     "output_type": "error",
     "traceback": [
      "\u001b[0;36m  File \u001b[0;32m\"<ipython-input-49-8007ce0c9dd8>\"\u001b[0;36m, line \u001b[0;32m7\u001b[0m\n\u001b[0;31m    elif:\u001b[0m\n\u001b[0m        ^\u001b[0m\n\u001b[0;31mSyntaxError\u001b[0m\u001b[0;31m:\u001b[0m invalid syntax\n"
     ]
    }
   ],
   "source": [
    "\n",
    "def get_veggie(row):\n",
    "    for zutat in row['zutaten_clean']:\n",
    "        for item in defined_meat_list:\n",
    "            if item.lower() in zutat:\n",
    "                print('non-veggie')               \n",
    "            elif:\n",
    "                for item in defined_veggie_list:\n",
    "            if item.lower() in zutat:\n",
    "                print('veggie')\n",
    "        \n",
    "        zutat_kat = wikipedia.page(zutat)\n",
    "        "
   ]
  },
  {
   "cell_type": "code",
   "execution_count": 52,
   "metadata": {},
   "outputs": [],
   "source": [
    "def get_cat(row):\n",
    "    for zutat in eval(row['zutaten_clean']):\n",
    "        try:\n",
    "            cats = wikipedia.page(zutat).categories\n",
    "            if 'fleisch' in any(cats.lower()):\n",
    "                print(zutat+': non-veggie')\n",
    "        except:\n",
    "            print(zutat)"
   ]
  },
  {
   "cell_type": "code",
   "execution_count": 53,
   "metadata": {},
   "outputs": [
    {
     "name": "stdout",
     "output_type": "stream",
     "text": [
      "Weizenmehl\n",
      "Wasser\n",
      "Sauerteig\n",
      "Mehl\n"
     ]
    },
    {
     "name": "stderr",
     "output_type": "stream",
     "text": [
      "/home/jls/.local/lib/python3.6/site-packages/bs4/__init__.py:181: UserWarning: No parser was explicitly specified, so I'm using the best available HTML parser for this system (\"lxml\"). This usually isn't a problem, but if you run this code on another system, or in a different virtual environment, it may use a different parser and behave differently.\n",
      "\n",
      "The code that caused this warning is on line 193 of the file /usr/lib/python3.6/runpy.py. To get rid of this warning, change code that looks like this:\n",
      "\n",
      " BeautifulSoup(YOUR_MARKUP})\n",
      "\n",
      "to this:\n",
      "\n",
      " BeautifulSoup(YOUR_MARKUP, \"lxml\")\n",
      "\n",
      "  markup_type=markup_type))\n"
     ]
    },
    {
     "name": "stdout",
     "output_type": "stream",
     "text": [
      "Salz\n",
      "Hefe\n",
      "Pfeffer\n",
      "Kartoffel\n",
      "Rumpsteak\n",
      "Öl\n",
      "Kümmel\n",
      "Salz\n",
      "Kräuterbutter\n",
      "Zwiebel\n",
      "Schweinelende\n",
      "Öl\n",
      "Orangensaft\n",
      "Saft\n",
      "Weißwein\n",
      "Granatapfel - Kerne\n"
     ]
    },
    {
     "data": {
      "text/plain": [
       "0    None\n",
       "1    None\n",
       "2    None\n",
       "dtype: object"
      ]
     },
     "execution_count": 53,
     "metadata": {},
     "output_type": "execute_result"
    }
   ],
   "source": [
    "df.head(3).apply(get_cat, axis = 1)"
   ]
  },
  {
   "cell_type": "code",
   "execution_count": null,
   "metadata": {},
   "outputs": [],
   "source": []
  }
 ],
 "metadata": {
  "kernelspec": {
   "display_name": "Python 3",
   "language": "python",
   "name": "python3"
  },
  "language_info": {
   "codemirror_mode": {
    "name": "ipython",
    "version": 3
   },
   "file_extension": ".py",
   "mimetype": "text/x-python",
   "name": "python",
   "nbconvert_exporter": "python",
   "pygments_lexer": "ipython3",
   "version": "3.6.5"
  }
 },
 "nbformat": 4,
 "nbformat_minor": 2
}
